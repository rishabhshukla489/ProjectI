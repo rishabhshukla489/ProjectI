{
 "cells": [
  {
   "cell_type": "code",
   "execution_count": 2,
   "id": "2de1f943",
   "metadata": {},
   "outputs": [],
   "source": [
    "a=5"
   ]
  },
  {
   "cell_type": "code",
   "execution_count": 3,
   "id": "723760af",
   "metadata": {},
   "outputs": [
    {
     "name": "stdout",
     "output_type": "stream",
     "text": [
      "5\n"
     ]
    }
   ],
   "source": [
    "print(a)"
   ]
  },
  {
   "cell_type": "markdown",
   "id": "794cfd7f",
   "metadata": {},
   "source": [
    "demo"
   ]
  },
  {
   "cell_type": "markdown",
   "id": "15a19ea4",
   "metadata": {},
   "source": [
    "#jupyter"
   ]
  },
  {
   "cell_type": "markdown",
   "id": "cb430f94",
   "metadata": {},
   "source": [
    "# notebook\n"
   ]
  }
 ],
 "metadata": {
  "kernelspec": {
   "display_name": "Python 3 (ipykernel)",
   "language": "python",
   "name": "python3"
  },
  "language_info": {
   "codemirror_mode": {
    "name": "ipython",
    "version": 3
   },
   "file_extension": ".py",
   "mimetype": "text/x-python",
   "name": "python",
   "nbconvert_exporter": "python",
   "pygments_lexer": "ipython3",
   "version": "3.8.8"
  }
 },
 "nbformat": 4,
 "nbformat_minor": 5
}
