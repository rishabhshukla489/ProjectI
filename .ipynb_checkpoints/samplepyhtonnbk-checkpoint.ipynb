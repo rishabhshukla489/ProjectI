{
 "cells": [
  {
   "cell_type": "code",
   "execution_count": 2,
   "id": "4b2fab3f",
   "metadata": {},
   "outputs": [],
   "source": [
    "a=5"
   ]
  },
  {
   "cell_type": "code",
   "execution_count": 3,
   "id": "6496acbd",
   "metadata": {},
   "outputs": [
    {
     "name": "stdout",
     "output_type": "stream",
     "text": [
      "5\n"
     ]
    }
   ],
   "source": [
    "print(a)"
   ]
  },
  {
   "cell_type": "markdown",
   "id": "e67ea6c3",
   "metadata": {},
   "source": [
    "demo"
   ]
  },
  {
   "cell_type": "markdown",
   "id": "ca525002",
   "metadata": {},
   "source": [
    "#jupyter"
   ]
  },
  {
   "cell_type": "markdown",
   "id": "d4a635fa",
   "metadata": {},
   "source": [
    "\n",
    "# notebook\n"
   ]
  },
  {
   "cell_type": "code",
   "execution_count": 99,
   "id": "bc1ac59f",
   "metadata": {},
   "outputs": [],
   "source": [
    "str='sddsddsds yyuy jjk'"
   ]
  },
  {
   "cell_type": "code",
   "execution_count": 51,
   "id": "98f4777f",
   "metadata": {},
   "outputs": [
    {
     "data": {
      "text/plain": [
       "'ds'"
      ]
     },
     "execution_count": 51,
     "metadata": {},
     "output_type": "execute_result"
    }
   ],
   "source": [
    "str[slice(1,4,2)]"
   ]
  },
  {
   "cell_type": "code",
   "execution_count": 52,
   "id": "7f2dce69",
   "metadata": {},
   "outputs": [
    {
     "data": {
      "text/plain": [
       "'sddsddsds'"
      ]
     },
     "execution_count": 52,
     "metadata": {},
     "output_type": "execute_result"
    }
   ],
   "source": [
    "str[:]"
   ]
  },
  {
   "cell_type": "code",
   "execution_count": 34,
   "id": "3795c6b4",
   "metadata": {},
   "outputs": [
    {
     "data": {
      "text/plain": [
       "1"
      ]
     },
     "execution_count": 34,
     "metadata": {},
     "output_type": "execute_result"
    }
   ],
   "source": [
    "str.index('dds')"
   ]
  },
  {
   "cell_type": "code",
   "execution_count": 35,
   "id": "51036774",
   "metadata": {},
   "outputs": [
    {
     "data": {
      "text/plain": [
       "'d'"
      ]
     },
     "execution_count": 35,
     "metadata": {},
     "output_type": "execute_result"
    }
   ],
   "source": [
    "str[5]"
   ]
  },
  {
   "cell_type": "code",
   "execution_count": 36,
   "id": "1963bd21",
   "metadata": {},
   "outputs": [
    {
     "data": {
      "text/plain": [
       "'s'"
      ]
     },
     "execution_count": 36,
     "metadata": {},
     "output_type": "execute_result"
    }
   ],
   "source": [
    "str[-3]"
   ]
  },
  {
   "cell_type": "code",
   "execution_count": 2,
   "id": "c205cb95",
   "metadata": {},
   "outputs": [
    {
     "name": "stdout",
     "output_type": "stream",
     "text": [
      "sds\n"
     ]
    }
   ],
   "source": [
    "print(str)"
   ]
  },
  {
   "cell_type": "code",
   "execution_count": 4,
   "id": "fe2c5f84",
   "metadata": {},
   "outputs": [],
   "source": [
    "ls=[1,'d',3.9]"
   ]
  },
  {
   "cell_type": "code",
   "execution_count": 53,
   "id": "4ab7ecfb",
   "metadata": {},
   "outputs": [
    {
     "data": {
      "text/plain": [
       "[1, 'd']"
      ]
     },
     "execution_count": 53,
     "metadata": {},
     "output_type": "execute_result"
    }
   ],
   "source": [
    "ls[:2]"
   ]
  },
  {
   "cell_type": "code",
   "execution_count": 54,
   "id": "54eb637b",
   "metadata": {},
   "outputs": [
    {
     "data": {
      "text/plain": [
       "['d']"
      ]
     },
     "execution_count": 54,
     "metadata": {},
     "output_type": "execute_result"
    }
   ],
   "source": [
    "ls[1:2]"
   ]
  },
  {
   "cell_type": "code",
   "execution_count": 55,
   "id": "d7e25e0a",
   "metadata": {},
   "outputs": [
    {
     "data": {
      "text/plain": [
       "['d', 3.9]"
      ]
     },
     "execution_count": 55,
     "metadata": {},
     "output_type": "execute_result"
    }
   ],
   "source": [
    "ls[1:3:1]"
   ]
  },
  {
   "cell_type": "code",
   "execution_count": 37,
   "id": "14dbf3a2",
   "metadata": {},
   "outputs": [
    {
     "data": {
      "text/plain": [
       "1"
      ]
     },
     "execution_count": 37,
     "metadata": {},
     "output_type": "execute_result"
    }
   ],
   "source": [
    "ls.index('d')"
   ]
  },
  {
   "cell_type": "code",
   "execution_count": 38,
   "id": "fb69391e",
   "metadata": {},
   "outputs": [
    {
     "data": {
      "text/plain": [
       "3.9"
      ]
     },
     "execution_count": 38,
     "metadata": {},
     "output_type": "execute_result"
    }
   ],
   "source": [
    "ls[2]"
   ]
  },
  {
   "cell_type": "code",
   "execution_count": 39,
   "id": "a4d00c8e",
   "metadata": {},
   "outputs": [
    {
     "data": {
      "text/plain": [
       "1"
      ]
     },
     "execution_count": 39,
     "metadata": {},
     "output_type": "execute_result"
    }
   ],
   "source": [
    "ls[-3]"
   ]
  },
  {
   "cell_type": "code",
   "execution_count": 5,
   "id": "b4603a32",
   "metadata": {},
   "outputs": [
    {
     "name": "stdout",
     "output_type": "stream",
     "text": [
      "[1, 'd', 3.9]\n"
     ]
    }
   ],
   "source": [
    "print(ls)"
   ]
  },
  {
   "cell_type": "code",
   "execution_count": 10,
   "id": "648f354e",
   "metadata": {},
   "outputs": [],
   "source": [
    "from array import *\n",
    "arr=array('i',[1,2,2,4])"
   ]
  },
  {
   "cell_type": "code",
   "execution_count": 69,
   "id": "d404ff40",
   "metadata": {},
   "outputs": [
    {
     "ename": "TypeError",
     "evalue": "can only append array (not \"int\") to array",
     "output_type": "error",
     "traceback": [
      "\u001b[1;31m---------------------------------------------------------------------------\u001b[0m",
      "\u001b[1;31mTypeError\u001b[0m                                 Traceback (most recent call last)",
      "\u001b[1;32m~\\AppData\\Local\\Temp/ipykernel_2512/3917488193.py\u001b[0m in \u001b[0;36m<module>\u001b[1;34m\u001b[0m\n\u001b[1;32m----> 1\u001b[1;33m \u001b[0mprint\u001b[0m\u001b[1;33m(\u001b[0m\u001b[0marr\u001b[0m\u001b[1;33m+\u001b[0m\u001b[1;36m3\u001b[0m\u001b[1;33m)\u001b[0m\u001b[1;33m\u001b[0m\u001b[1;33m\u001b[0m\u001b[0m\n\u001b[0m",
      "\u001b[1;31mTypeError\u001b[0m: can only append array (not \"int\") to array"
     ]
    }
   ],
   "source": [
    "print(arr+ 3)"
   ]
  },
  {
   "cell_type": "code",
   "execution_count": 59,
   "id": "dca1dd70",
   "metadata": {},
   "outputs": [
    {
     "data": {
      "text/plain": [
       "array('i', [2, 2])"
      ]
     },
     "execution_count": 59,
     "metadata": {},
     "output_type": "execute_result"
    }
   ],
   "source": [
    "arr[1:-1]"
   ]
  },
  {
   "cell_type": "code",
   "execution_count": 40,
   "id": "cbb409c4",
   "metadata": {},
   "outputs": [
    {
     "data": {
      "text/plain": [
       "2"
      ]
     },
     "execution_count": 40,
     "metadata": {},
     "output_type": "execute_result"
    }
   ],
   "source": [
    "arr[2]"
   ]
  },
  {
   "cell_type": "code",
   "execution_count": 41,
   "id": "d244b64e",
   "metadata": {},
   "outputs": [
    {
     "data": {
      "text/plain": [
       "2"
      ]
     },
     "execution_count": 41,
     "metadata": {},
     "output_type": "execute_result"
    }
   ],
   "source": [
    "arr[-2]"
   ]
  },
  {
   "cell_type": "code",
   "execution_count": 7,
   "id": "3f6858a1",
   "metadata": {},
   "outputs": [
    {
     "name": "stdout",
     "output_type": "stream",
     "text": [
      "array('i', [1, 2, 3, 4])\n"
     ]
    }
   ],
   "source": [
    "print(arr)"
   ]
  },
  {
   "cell_type": "code",
   "execution_count": 11,
   "id": "f980bad0",
   "metadata": {},
   "outputs": [
    {
     "name": "stdout",
     "output_type": "stream",
     "text": [
      "1\n",
      "2\n",
      "2\n",
      "4\n"
     ]
    }
   ],
   "source": [
    "for x in arr: print(x)"
   ]
  },
  {
   "cell_type": "code",
   "execution_count": 14,
   "id": "12db34b4",
   "metadata": {},
   "outputs": [],
   "source": [
    "tu=(1,9,'4f')"
   ]
  },
  {
   "cell_type": "code",
   "execution_count": 61,
   "id": "b2467010",
   "metadata": {},
   "outputs": [
    {
     "data": {
      "text/plain": [
       "(9, '4f')"
      ]
     },
     "execution_count": 61,
     "metadata": {},
     "output_type": "execute_result"
    }
   ],
   "source": [
    "tu[1:3]"
   ]
  },
  {
   "cell_type": "code",
   "execution_count": 42,
   "id": "6bf2c30c",
   "metadata": {},
   "outputs": [
    {
     "data": {
      "text/plain": [
       "1"
      ]
     },
     "execution_count": 42,
     "metadata": {},
     "output_type": "execute_result"
    }
   ],
   "source": [
    "tu.index(9)"
   ]
  },
  {
   "cell_type": "code",
   "execution_count": 15,
   "id": "f8e8bb0b",
   "metadata": {},
   "outputs": [
    {
     "name": "stdout",
     "output_type": "stream",
     "text": [
      "(1, 9, '4f')\n"
     ]
    }
   ],
   "source": [
    "print(tu)"
   ]
  },
  {
   "cell_type": "code",
   "execution_count": 16,
   "id": "7f8e963d",
   "metadata": {},
   "outputs": [
    {
     "name": "stdout",
     "output_type": "stream",
     "text": [
      "(1, 2, 'rr')\n"
     ]
    }
   ],
   "source": [
    "tup=1,2,'rr'\n",
    "print(tup)"
   ]
  },
  {
   "cell_type": "code",
   "execution_count": 82,
   "id": "0f998a86",
   "metadata": {},
   "outputs": [
    {
     "name": "stdout",
     "output_type": "stream",
     "text": [
      "(1, 2, 'rr', 'r', 't', 'r', 't')\n"
     ]
    }
   ],
   "source": [
    "tup+=('r','t')\n",
    "print(tup)"
   ]
  },
  {
   "cell_type": "code",
   "execution_count": 43,
   "id": "5f2a0319",
   "metadata": {},
   "outputs": [
    {
     "data": {
      "text/plain": [
       "'rr'"
      ]
     },
     "execution_count": 43,
     "metadata": {},
     "output_type": "execute_result"
    }
   ],
   "source": [
    "tup[2]"
   ]
  },
  {
   "cell_type": "code",
   "execution_count": 17,
   "id": "ff12b276",
   "metadata": {},
   "outputs": [],
   "source": [
    "dicts={1:\"dghdg\",'sec':7}\n"
   ]
  },
  {
   "cell_type": "code",
   "execution_count": 56,
   "id": "bc9c4660",
   "metadata": {},
   "outputs": [
    {
     "ename": "TypeError",
     "evalue": "'type' object is not subscriptable",
     "output_type": "error",
     "traceback": [
      "\u001b[1;31m---------------------------------------------------------------------------\u001b[0m",
      "\u001b[1;31mTypeError\u001b[0m                                 Traceback (most recent call last)",
      "\u001b[1;32m~\\AppData\\Local\\Temp/ipykernel_2512/2859365520.py\u001b[0m in \u001b[0;36m<module>\u001b[1;34m\u001b[0m\n\u001b[1;32m----> 1\u001b[1;33m \u001b[0mdict\u001b[0m\u001b[1;33m[\u001b[0m\u001b[1;33m:\u001b[0m\u001b[1;36m2\u001b[0m\u001b[1;33m]\u001b[0m\u001b[1;33m\u001b[0m\u001b[1;33m\u001b[0m\u001b[0m\n\u001b[0m",
      "\u001b[1;31mTypeError\u001b[0m: 'type' object is not subscriptable"
     ]
    }
   ],
   "source": [
    "dict[:2]"
   ]
  },
  {
   "cell_type": "code",
   "execution_count": 46,
   "id": "5c2396a3",
   "metadata": {},
   "outputs": [
    {
     "data": {
      "text/plain": [
       "7"
      ]
     },
     "execution_count": 46,
     "metadata": {},
     "output_type": "execute_result"
    }
   ],
   "source": [
    "dicts['sec']"
   ]
  },
  {
   "cell_type": "code",
   "execution_count": 18,
   "id": "770e37fb",
   "metadata": {},
   "outputs": [
    {
     "data": {
      "text/plain": [
       "{1: 'dghdg', 'sec': 7}"
      ]
     },
     "execution_count": 18,
     "metadata": {},
     "output_type": "execute_result"
    }
   ],
   "source": [
    "dicts"
   ]
  },
  {
   "cell_type": "code",
   "execution_count": 20,
   "id": "ec001713",
   "metadata": {},
   "outputs": [
    {
     "data": {
      "text/plain": [
       "{1: 'rus', 'se': 3}"
      ]
     },
     "execution_count": 20,
     "metadata": {},
     "output_type": "execute_result"
    }
   ],
   "source": [
    "dictss=dict([(1,'rus'),('se',3)])\n",
    "dictss"
   ]
  },
  {
   "cell_type": "code",
   "execution_count": 45,
   "id": "5c317ed9",
   "metadata": {},
   "outputs": [
    {
     "data": {
      "text/plain": [
       "'rus'"
      ]
     },
     "execution_count": 45,
     "metadata": {},
     "output_type": "execute_result"
    }
   ],
   "source": [
    "dictss[1]"
   ]
  },
  {
   "cell_type": "code",
   "execution_count": 21,
   "id": "232e6a1f",
   "metadata": {},
   "outputs": [],
   "source": [
    "sete={56567,\"fghsf\"}"
   ]
  },
  {
   "cell_type": "code",
   "execution_count": 83,
   "id": "56cf9ae3",
   "metadata": {},
   "outputs": [
    {
     "data": {
      "text/plain": [
       "({56567, 'fghsf'}, 23)"
      ]
     },
     "execution_count": 83,
     "metadata": {},
     "output_type": "execute_result"
    }
   ],
   "source": [
    "sete,23"
   ]
  },
  {
   "cell_type": "code",
   "execution_count": 22,
   "id": "56ee6ebf",
   "metadata": {},
   "outputs": [
    {
     "data": {
      "text/plain": [
       "{56567, 'fghsf'}"
      ]
     },
     "execution_count": 22,
     "metadata": {},
     "output_type": "execute_result"
    }
   ],
   "source": [
    "sete\n"
   ]
  },
  {
   "cell_type": "code",
   "execution_count": 23,
   "id": "0915e28b",
   "metadata": {},
   "outputs": [],
   "source": [
    "seet=set('example')"
   ]
  },
  {
   "cell_type": "code",
   "execution_count": 24,
   "id": "b73d9206",
   "metadata": {},
   "outputs": [
    {
     "data": {
      "text/plain": [
       "{'a', 'e', 'l', 'm', 'p', 'x'}"
      ]
     },
     "execution_count": 24,
     "metadata": {},
     "output_type": "execute_result"
    }
   ],
   "source": [
    "seet\n"
   ]
  },
  {
   "cell_type": "code",
   "execution_count": 25,
   "id": "be65a58d",
   "metadata": {},
   "outputs": [],
   "source": [
    "re=range(1,5,1)"
   ]
  },
  {
   "cell_type": "code",
   "execution_count": 26,
   "id": "c48af275",
   "metadata": {},
   "outputs": [
    {
     "data": {
      "text/plain": [
       "range"
      ]
     },
     "execution_count": 26,
     "metadata": {},
     "output_type": "execute_result"
    }
   ],
   "source": [
    "range\n"
   ]
  },
  {
   "cell_type": "code",
   "execution_count": 27,
   "id": "5c2a17e9",
   "metadata": {},
   "outputs": [
    {
     "data": {
      "text/plain": [
       "range(1, 5)"
      ]
     },
     "execution_count": 27,
     "metadata": {},
     "output_type": "execute_result"
    }
   ],
   "source": [
    "re"
   ]
  },
  {
   "cell_type": "code",
   "execution_count": 28,
   "id": "1ae6a107",
   "metadata": {},
   "outputs": [
    {
     "name": "stdout",
     "output_type": "stream",
     "text": [
      "range(1, 5)\n"
     ]
    }
   ],
   "source": [
    "print(re)"
   ]
  },
  {
   "cell_type": "code",
   "execution_count": 30,
   "id": "8a69d975",
   "metadata": {},
   "outputs": [
    {
     "name": "stdout",
     "output_type": "stream",
     "text": [
      "1\n",
      "2\n",
      "3\n",
      "4\n"
     ]
    }
   ],
   "source": [
    "for x in re :print(x)"
   ]
  },
  {
   "cell_type": "code",
   "execution_count": 47,
   "id": "5ead5067",
   "metadata": {},
   "outputs": [
    {
     "data": {
      "text/plain": [
       "3"
      ]
     },
     "execution_count": 47,
     "metadata": {},
     "output_type": "execute_result"
    }
   ],
   "source": [
    "re[2]"
   ]
  },
  {
   "cell_type": "code",
   "execution_count": 48,
   "id": "2d582dc1",
   "metadata": {},
   "outputs": [
    {
     "ename": "TypeError",
     "evalue": "'builtin_function_or_method' object is not subscriptable",
     "output_type": "error",
     "traceback": [
      "\u001b[1;31m---------------------------------------------------------------------------\u001b[0m",
      "\u001b[1;31mTypeError\u001b[0m                                 Traceback (most recent call last)",
      "\u001b[1;32m~\\AppData\\Local\\Temp/ipykernel_2512/3677734791.py\u001b[0m in \u001b[0;36m<module>\u001b[1;34m\u001b[0m\n\u001b[1;32m----> 1\u001b[1;33m \u001b[0mre\u001b[0m\u001b[1;33m.\u001b[0m\u001b[0mindex\u001b[0m\u001b[1;33m[\u001b[0m\u001b[1;36m2\u001b[0m\u001b[1;33m]\u001b[0m\u001b[1;33m\u001b[0m\u001b[1;33m\u001b[0m\u001b[0m\n\u001b[0m",
      "\u001b[1;31mTypeError\u001b[0m: 'builtin_function_or_method' object is not subscriptable"
     ]
    }
   ],
   "source": [
    "re.index[2]"
   ]
  },
  {
   "cell_type": "code",
   "execution_count": 49,
   "id": "c0c89881",
   "metadata": {},
   "outputs": [
    {
     "data": {
      "text/plain": [
       "1"
      ]
     },
     "execution_count": 49,
     "metadata": {},
     "output_type": "execute_result"
    }
   ],
   "source": [
    "re.index(2)"
   ]
  },
  {
   "cell_type": "code",
   "execution_count": 50,
   "id": "9a28a786",
   "metadata": {},
   "outputs": [
    {
     "ename": "ValueError",
     "evalue": "66 is not in range",
     "output_type": "error",
     "traceback": [
      "\u001b[1;31m---------------------------------------------------------------------------\u001b[0m",
      "\u001b[1;31mValueError\u001b[0m                                Traceback (most recent call last)",
      "\u001b[1;32m~\\AppData\\Local\\Temp/ipykernel_2512/2880638925.py\u001b[0m in \u001b[0;36m<module>\u001b[1;34m\u001b[0m\n\u001b[1;32m----> 1\u001b[1;33m \u001b[0mre\u001b[0m\u001b[1;33m.\u001b[0m\u001b[0mindex\u001b[0m\u001b[1;33m(\u001b[0m\u001b[1;36m66\u001b[0m\u001b[1;33m)\u001b[0m\u001b[1;33m\u001b[0m\u001b[1;33m\u001b[0m\u001b[0m\n\u001b[0m",
      "\u001b[1;31mValueError\u001b[0m: 66 is not in range"
     ]
    }
   ],
   "source": [
    "re.index(66)"
   ]
  },
  {
   "cell_type": "code",
   "execution_count": 62,
   "id": "7c2b7edc",
   "metadata": {},
   "outputs": [
    {
     "data": {
      "text/plain": [
       "range(2, 4)"
      ]
     },
     "execution_count": 62,
     "metadata": {},
     "output_type": "execute_result"
    }
   ],
   "source": [
    "re[1:-1]"
   ]
  },
  {
   "cell_type": "code",
   "execution_count": 66,
   "id": "2ed13fe5",
   "metadata": {},
   "outputs": [
    {
     "name": "stdout",
     "output_type": "stream",
     "text": [
      "range(2, 3)\n"
     ]
    }
   ],
   "source": [
    "print(re[1:2])"
   ]
  },
  {
   "cell_type": "code",
   "execution_count": 70,
   "id": "d0228930",
   "metadata": {},
   "outputs": [
    {
     "data": {
      "text/plain": [
       "'sddsddsds'"
      ]
     },
     "execution_count": 70,
     "metadata": {},
     "output_type": "execute_result"
    }
   ],
   "source": [
    "str\n"
   ]
  },
  {
   "cell_type": "code",
   "execution_count": 71,
   "id": "6369c6b5",
   "metadata": {},
   "outputs": [
    {
     "data": {
      "text/plain": [
       "'sddsddsdseeee'"
      ]
     },
     "execution_count": 71,
     "metadata": {},
     "output_type": "execute_result"
    }
   ],
   "source": [
    "str+'eeee'"
   ]
  },
  {
   "cell_type": "code",
   "execution_count": 72,
   "id": "4896fc53",
   "metadata": {},
   "outputs": [
    {
     "data": {
      "text/plain": [
       "'sddsddsds'"
      ]
     },
     "execution_count": 72,
     "metadata": {},
     "output_type": "execute_result"
    }
   ],
   "source": [
    "str"
   ]
  },
  {
   "cell_type": "code",
   "execution_count": 73,
   "id": "b988a40c",
   "metadata": {},
   "outputs": [
    {
     "data": {
      "text/plain": [
       "[1, 'd', 3.9]"
      ]
     },
     "execution_count": 73,
     "metadata": {},
     "output_type": "execute_result"
    }
   ],
   "source": [
    "ls\n"
   ]
  },
  {
   "cell_type": "code",
   "execution_count": 76,
   "id": "3417446d",
   "metadata": {},
   "outputs": [
    {
     "ename": "TypeError",
     "evalue": "can only concatenate list (not \"str\") to list",
     "output_type": "error",
     "traceback": [
      "\u001b[1;31m---------------------------------------------------------------------------\u001b[0m",
      "\u001b[1;31mTypeError\u001b[0m                                 Traceback (most recent call last)",
      "\u001b[1;32m~\\AppData\\Local\\Temp/ipykernel_2512/3509942645.py\u001b[0m in \u001b[0;36m<module>\u001b[1;34m\u001b[0m\n\u001b[1;32m----> 1\u001b[1;33m \u001b[0mls\u001b[0m\u001b[1;33m+\u001b[0m\u001b[1;34m'py'\u001b[0m\u001b[1;33m\u001b[0m\u001b[1;33m\u001b[0m\u001b[0m\n\u001b[0m",
      "\u001b[1;31mTypeError\u001b[0m: can only concatenate list (not \"str\") to list"
     ]
    }
   ],
   "source": [
    "ls+'py'"
   ]
  },
  {
   "cell_type": "code",
   "execution_count": 75,
   "id": "f29c0577",
   "metadata": {},
   "outputs": [],
   "source": [
    "py=['2','rrr']"
   ]
  },
  {
   "cell_type": "code",
   "execution_count": 77,
   "id": "52a2dfdd",
   "metadata": {},
   "outputs": [
    {
     "ename": "TypeError",
     "evalue": "can only concatenate list (not \"str\") to list",
     "output_type": "error",
     "traceback": [
      "\u001b[1;31m---------------------------------------------------------------------------\u001b[0m",
      "\u001b[1;31mTypeError\u001b[0m                                 Traceback (most recent call last)",
      "\u001b[1;32m~\\AppData\\Local\\Temp/ipykernel_2512/3509942645.py\u001b[0m in \u001b[0;36m<module>\u001b[1;34m\u001b[0m\n\u001b[1;32m----> 1\u001b[1;33m \u001b[0mls\u001b[0m\u001b[1;33m+\u001b[0m\u001b[1;34m'py'\u001b[0m\u001b[1;33m\u001b[0m\u001b[1;33m\u001b[0m\u001b[0m\n\u001b[0m",
      "\u001b[1;31mTypeError\u001b[0m: can only concatenate list (not \"str\") to list"
     ]
    }
   ],
   "source": [
    "ls+'py'"
   ]
  },
  {
   "cell_type": "code",
   "execution_count": 79,
   "id": "05fed0be",
   "metadata": {},
   "outputs": [
    {
     "data": {
      "text/plain": [
       "[1, 'd', 3.9, 'jk']"
      ]
     },
     "execution_count": 79,
     "metadata": {},
     "output_type": "execute_result"
    }
   ],
   "source": [
    "ls+['jk']\n"
   ]
  },
  {
   "cell_type": "code",
   "execution_count": 80,
   "id": "a43b6a39",
   "metadata": {},
   "outputs": [
    {
     "data": {
      "text/plain": [
       "[1, 'd', 3.9]"
      ]
     },
     "execution_count": 80,
     "metadata": {},
     "output_type": "execute_result"
    }
   ],
   "source": [
    "ls"
   ]
  },
  {
   "cell_type": "code",
   "execution_count": 84,
   "id": "55134c65",
   "metadata": {},
   "outputs": [
    {
     "data": {
      "text/plain": [
       "'sddsddsdssddsddsdssddsddsdssddsddsdssddsddsdssddsddsdssddsddsdssddsddsdssddsddsdssddsddsds'"
      ]
     },
     "execution_count": 84,
     "metadata": {},
     "output_type": "execute_result"
    }
   ],
   "source": [
    "str*10"
   ]
  },
  {
   "cell_type": "code",
   "execution_count": 85,
   "id": "3d025e9b",
   "metadata": {},
   "outputs": [
    {
     "data": {
      "text/plain": [
       "'sddsddsds'"
      ]
     },
     "execution_count": 85,
     "metadata": {},
     "output_type": "execute_result"
    }
   ],
   "source": [
    "str"
   ]
  },
  {
   "cell_type": "code",
   "execution_count": 86,
   "id": "cef80d7f",
   "metadata": {},
   "outputs": [
    {
     "data": {
      "text/plain": [
       "[1, 'd', 3.9, 1, 'd', 3.9]"
      ]
     },
     "execution_count": 86,
     "metadata": {},
     "output_type": "execute_result"
    }
   ],
   "source": [
    "ls*2"
   ]
  },
  {
   "cell_type": "code",
   "execution_count": 89,
   "id": "b9cfae28",
   "metadata": {},
   "outputs": [
    {
     "data": {
      "text/plain": [
       "[1, 'dd', 15.6]"
      ]
     },
     "execution_count": 89,
     "metadata": {},
     "output_type": "execute_result"
    }
   ],
   "source": [
    "ls[1]*=2\n",
    "ls"
   ]
  },
  {
   "cell_type": "code",
   "execution_count": 92,
   "id": "0d7ab8f8",
   "metadata": {},
   "outputs": [
    {
     "data": {
      "text/plain": [
       "('4f', '4f')"
      ]
     },
     "execution_count": 92,
     "metadata": {},
     "output_type": "execute_result"
    }
   ],
   "source": [
    "tu[2:3]\n",
    "tu[2:3]*2"
   ]
  },
  {
   "cell_type": "code",
   "execution_count": 93,
   "id": "20e076c0",
   "metadata": {},
   "outputs": [
    {
     "data": {
      "text/plain": [
       "array('i', [1, 2, 2, 4, 1, 2, 2, 4])"
      ]
     },
     "execution_count": 93,
     "metadata": {},
     "output_type": "execute_result"
    }
   ],
   "source": [
    "arr*2"
   ]
  },
  {
   "cell_type": "code",
   "execution_count": 94,
   "id": "98d075f8",
   "metadata": {},
   "outputs": [
    {
     "ename": "TypeError",
     "evalue": "unsupported operand type(s) for *: 'range' and 'int'",
     "output_type": "error",
     "traceback": [
      "\u001b[1;31m---------------------------------------------------------------------------\u001b[0m",
      "\u001b[1;31mTypeError\u001b[0m                                 Traceback (most recent call last)",
      "\u001b[1;32m~\\AppData\\Local\\Temp/ipykernel_2512/4116081437.py\u001b[0m in \u001b[0;36m<module>\u001b[1;34m\u001b[0m\n\u001b[1;32m----> 1\u001b[1;33m \u001b[0mre\u001b[0m\u001b[1;33m*\u001b[0m\u001b[1;36m2\u001b[0m\u001b[1;33m\u001b[0m\u001b[1;33m\u001b[0m\u001b[0m\n\u001b[0m",
      "\u001b[1;31mTypeError\u001b[0m: unsupported operand type(s) for *: 'range' and 'int'"
     ]
    }
   ],
   "source": [
    "re*2"
   ]
  },
  {
   "cell_type": "code",
   "execution_count": 95,
   "id": "aa125cb7",
   "metadata": {},
   "outputs": [
    {
     "data": {
      "text/plain": [
       "'sddsddsds'"
      ]
     },
     "execution_count": 95,
     "metadata": {},
     "output_type": "execute_result"
    }
   ],
   "source": [
    "str"
   ]
  },
  {
   "cell_type": "code",
   "execution_count": 96,
   "id": "5960a596",
   "metadata": {},
   "outputs": [
    {
     "name": "stdout",
     "output_type": "stream",
     "text": [
      "sddsddsds\n"
     ]
    }
   ],
   "source": [
    "print(str)"
   ]
  },
  {
   "cell_type": "code",
   "execution_count": 101,
   "id": "5007b2cc",
   "metadata": {},
   "outputs": [
    {
     "name": "stdout",
     "output_type": "stream",
     "text": [
      "SDDSDDSDS YYUY JJK\n"
     ]
    }
   ],
   "source": [
    "print(str.swapcase())"
   ]
  },
  {
   "cell_type": "code",
   "execution_count": 109,
   "id": "3953abf2",
   "metadata": {},
   "outputs": [
    {
     "data": {
      "text/plain": [
       "'sddsddsds ds jjk'"
      ]
     },
     "execution_count": 109,
     "metadata": {},
     "output_type": "execute_result"
    }
   ],
   "source": [
    "str.replace('yyuy','ds')"
   ]
  },
  {
   "cell_type": "code",
   "execution_count": 111,
   "id": "84f302a2",
   "metadata": {},
   "outputs": [
    {
     "data": {
      "text/plain": [
       "False"
      ]
     },
     "execution_count": 111,
     "metadata": {},
     "output_type": "execute_result"
    }
   ],
   "source": [
    "str.isalnum()"
   ]
  },
  {
   "cell_type": "code",
   "execution_count": 112,
   "id": "28155b6b",
   "metadata": {},
   "outputs": [],
   "source": [
    "name1='git'\n",
    "name2='hun'\n",
    "name3='hjhjhjh'"
   ]
  },
  {
   "cell_type": "code",
   "execution_count": 114,
   "id": "77322d49",
   "metadata": {},
   "outputs": [
    {
     "data": {
      "text/plain": [
       "'githun.hjhjhjh'"
      ]
     },
     "execution_count": 114,
     "metadata": {},
     "output_type": "execute_result"
    }
   ],
   "source": [
    " name='{}{}.{}'.format(name1,name2,name3)\n",
    "name"
   ]
  },
  {
   "cell_type": "code",
   "execution_count": 119,
   "id": "27f04d27",
   "metadata": {},
   "outputs": [
    {
     "name": "stdout",
     "output_type": "stream",
     "text": [
      "['__add__', '__class__', '__contains__', '__delattr__', '__dir__', '__doc__', '__eq__', '__format__', '__ge__', '__getattribute__', '__getitem__', '__getnewargs__', '__gt__', '__hash__', '__init__', '__init_subclass__', '__iter__', '__le__', '__len__', '__lt__', '__mod__', '__mul__', '__ne__', '__new__', '__reduce__', '__reduce_ex__', '__repr__', '__rmod__', '__rmul__', '__setattr__', '__sizeof__', '__str__', '__subclasshook__', 'capitalize', 'casefold', 'center', 'count', 'encode', 'endswith', 'expandtabs', 'find', 'format', 'format_map', 'index', 'isalnum', 'isalpha', 'isascii', 'isdecimal', 'isdigit', 'isidentifier', 'islower', 'isnumeric', 'isprintable', 'isspace', 'istitle', 'isupper', 'join', 'ljust', 'lower', 'lstrip', 'maketrans', 'partition', 'replace', 'rfind', 'rindex', 'rjust', 'rpartition', 'rsplit', 'rstrip', 'split', 'splitlines', 'startswith', 'strip', 'swapcase', 'title', 'translate', 'upper', 'zfill']\n"
     ]
    }
   ],
   "source": [
    "print (dir(str))"
   ]
  },
  {
   "cell_type": "code",
   "execution_count": 120,
   "id": "c99a80a5",
   "metadata": {},
   "outputs": [
    {
     "name": "stdout",
     "output_type": "stream",
     "text": [
      "[1, 'dd', 15.6]\n"
     ]
    }
   ],
   "source": [
    "print(ls)"
   ]
  },
  {
   "cell_type": "code",
   "execution_count": 121,
   "id": "831200f1",
   "metadata": {},
   "outputs": [],
   "source": [
    "ls.reverse()"
   ]
  },
  {
   "cell_type": "code",
   "execution_count": 122,
   "id": "9125229c",
   "metadata": {},
   "outputs": [
    {
     "name": "stdout",
     "output_type": "stream",
     "text": [
      "[15.6, 'dd', 1]\n"
     ]
    }
   ],
   "source": [
    "print(ls)"
   ]
  },
  {
   "cell_type": "code",
   "execution_count": 128,
   "id": "0bd60a31",
   "metadata": {},
   "outputs": [
    {
     "name": "stdout",
     "output_type": "stream",
     "text": [
      "list 3 ,\\ array 4\n"
     ]
    }
   ],
   "source": [
    "print(\"list {} ,\\ array {}\".format(len(ls),len(arr)))"
   ]
  },
  {
   "cell_type": "code",
   "execution_count": 129,
   "id": "cedaee85",
   "metadata": {},
   "outputs": [
    {
     "data": {
      "text/plain": [
       "<function list.clear()>"
      ]
     },
     "execution_count": 129,
     "metadata": {},
     "output_type": "execute_result"
    }
   ],
   "source": [
    "ls.clear\n"
   ]
  },
  {
   "cell_type": "code",
   "execution_count": 130,
   "id": "e1e42090",
   "metadata": {},
   "outputs": [],
   "source": [
    "ls.clear()"
   ]
  },
  {
   "cell_type": "code",
   "execution_count": 131,
   "id": "037222ab",
   "metadata": {},
   "outputs": [
    {
     "data": {
      "text/plain": [
       "[]"
      ]
     },
     "execution_count": 131,
     "metadata": {},
     "output_type": "execute_result"
    }
   ],
   "source": [
    "ls"
   ]
  },
  {
   "cell_type": "code",
   "execution_count": 132,
   "id": "3e97d310",
   "metadata": {},
   "outputs": [],
   "source": [
    "ls=[1,2,3,4]"
   ]
  },
  {
   "cell_type": "code",
   "execution_count": 134,
   "id": "04389614",
   "metadata": {},
   "outputs": [
    {
     "name": "stdout",
     "output_type": "stream",
     "text": [
      "{'fghsf', 222, 56567}\n",
      "{'fghsf', 2222, 222, 56567}\n"
     ]
    }
   ],
   "source": [
    "print(sete)\n",
    "sete.add(2222)\n",
    "print(sete)"
   ]
  },
  {
   "cell_type": "code",
   "execution_count": 135,
   "id": "84f49621",
   "metadata": {},
   "outputs": [],
   "source": [
    "ls.append([22,1])"
   ]
  },
  {
   "cell_type": "code",
   "execution_count": 136,
   "id": "932dfd20",
   "metadata": {},
   "outputs": [
    {
     "data": {
      "text/plain": [
       "[1, 2, 3, 4, [22, 1]]"
      ]
     },
     "execution_count": 136,
     "metadata": {},
     "output_type": "execute_result"
    }
   ],
   "source": [
    "ls"
   ]
  },
  {
   "cell_type": "code",
   "execution_count": 137,
   "id": "e5549638",
   "metadata": {},
   "outputs": [
    {
     "data": {
      "text/plain": [
       "array('i', [1, 2, 2, 4, 2222])"
      ]
     },
     "execution_count": 137,
     "metadata": {},
     "output_type": "execute_result"
    }
   ],
   "source": [
    "arr.append(2222)\n",
    "arr"
   ]
  },
  {
   "cell_type": "code",
   "execution_count": 139,
   "id": "bb9632a3",
   "metadata": {},
   "outputs": [],
   "source": [
    "sete.update([2,222222])"
   ]
  },
  {
   "cell_type": "code",
   "execution_count": 140,
   "id": "0dfb1562",
   "metadata": {},
   "outputs": [
    {
     "name": "stdout",
     "output_type": "stream",
     "text": [
      "{1, 2, 3, 4, 'fghsf', 2222, 222222, 56567, 222}\n"
     ]
    }
   ],
   "source": [
    "print(sete)"
   ]
  },
  {
   "cell_type": "code",
   "execution_count": 141,
   "id": "9780528d",
   "metadata": {},
   "outputs": [
    {
     "name": "stdout",
     "output_type": "stream",
     "text": [
      "{1: 'rus', 'se': 3, 32: 'jfhjdhjkf'}\n"
     ]
    }
   ],
   "source": [
    "dictss[32]='jfhjdhjkf'\n",
    "print(dictss)"
   ]
  },
  {
   "cell_type": "code",
   "execution_count": 153,
   "id": "ff5cd7fd",
   "metadata": {},
   "outputs": [
    {
     "name": "stdout",
     "output_type": "stream",
     "text": [
      "{1: 'rus', 'se': 3, 32: 'jfhjdhjkf', 'five': 5, 'f2': 5, 'eightfffff': 5}\n"
     ]
    }
   ],
   "source": [
    "dictss.update(eightfffff = 5)\n",
    "print(dictss)"
   ]
  },
  {
   "cell_type": "code",
   "execution_count": 154,
   "id": "7f6a7e91",
   "metadata": {},
   "outputs": [
    {
     "data": {
      "text/plain": [
       "6"
      ]
     },
     "execution_count": 154,
     "metadata": {},
     "output_type": "execute_result"
    }
   ],
   "source": [
    "len(dictss)"
   ]
  },
  {
   "cell_type": "code",
   "execution_count": 155,
   "id": "729f2547",
   "metadata": {},
   "outputs": [
    {
     "data": {
      "text/plain": [
       "[1, 'se', 32, 'five', 'f2', 'eightfffff']"
      ]
     },
     "execution_count": 155,
     "metadata": {},
     "output_type": "execute_result"
    }
   ],
   "source": [
    "list(dictss)"
   ]
  },
  {
   "cell_type": "code",
   "execution_count": 163,
   "id": "1c175472",
   "metadata": {},
   "outputs": [
    {
     "data": {
      "text/plain": [
       "5"
      ]
     },
     "execution_count": 163,
     "metadata": {},
     "output_type": "execute_result"
    }
   ],
   "source": [
    "dictss.get('five')"
   ]
  },
  {
   "cell_type": "code",
   "execution_count": 165,
   "id": "ac0f90aa",
   "metadata": {},
   "outputs": [
    {
     "data": {
      "text/plain": [
       "dict_keys([1, 'se', 32, 'five', 'f2', 'eightfffff'])"
      ]
     },
     "execution_count": 165,
     "metadata": {},
     "output_type": "execute_result"
    }
   ],
   "source": [
    "dictss.keys()"
   ]
  },
  {
   "cell_type": "code",
   "execution_count": 167,
   "id": "396f808d",
   "metadata": {},
   "outputs": [
    {
     "data": {
      "text/plain": [
       "dict_items([(1, 'rus'), ('se', 3), (32, 'jfhjdhjkf'), ('five', 5), ('f2', 5), ('eightfffff', 5)])"
      ]
     },
     "execution_count": 167,
     "metadata": {},
     "output_type": "execute_result"
    }
   ],
   "source": [
    "dictss.items()"
   ]
  },
  {
   "cell_type": "code",
   "execution_count": 168,
   "id": "e3b6dfd2",
   "metadata": {},
   "outputs": [],
   "source": [
    "arr.insert(0,999)\n",
    "ls.insert(0,999)"
   ]
  },
  {
   "cell_type": "code",
   "execution_count": 169,
   "id": "23b76b66",
   "metadata": {},
   "outputs": [
    {
     "name": "stdout",
     "output_type": "stream",
     "text": [
      "array('i', [999, 1, 2, 2, 4, 2222])\n",
      "[999, 1, 2, 3, 4, [22, 1]]\n"
     ]
    }
   ],
   "source": [
    "print(arr)\n",
    "print(ls)"
   ]
  },
  {
   "cell_type": "code",
   "execution_count": 172,
   "id": "ba5b3837",
   "metadata": {},
   "outputs": [
    {
     "name": "stdout",
     "output_type": "stream",
     "text": [
      "array('i', [999, 1, 2, 2])\n"
     ]
    },
    {
     "data": {
      "text/plain": [
       "2"
      ]
     },
     "execution_count": 172,
     "metadata": {},
     "output_type": "execute_result"
    }
   ],
   "source": [
    "print(arr)\n",
    "arr.pop()\n"
   ]
  },
  {
   "cell_type": "code",
   "execution_count": 173,
   "id": "902dab39",
   "metadata": {},
   "outputs": [
    {
     "data": {
      "text/plain": [
       "[22, 1]"
      ]
     },
     "execution_count": 173,
     "metadata": {},
     "output_type": "execute_result"
    }
   ],
   "source": [
    "ls.pop()"
   ]
  },
  {
   "cell_type": "code",
   "execution_count": 174,
   "id": "32078759",
   "metadata": {},
   "outputs": [],
   "source": [
    "ls.append(323)"
   ]
  },
  {
   "cell_type": "code",
   "execution_count": 175,
   "id": "f53836b0",
   "metadata": {},
   "outputs": [
    {
     "data": {
      "text/plain": [
       "999"
      ]
     },
     "execution_count": 175,
     "metadata": {},
     "output_type": "execute_result"
    }
   ],
   "source": [
    "ls.pop(0)"
   ]
  },
  {
   "cell_type": "code",
   "execution_count": 176,
   "id": "f5b747c7",
   "metadata": {},
   "outputs": [
    {
     "data": {
      "text/plain": [
       "[1, 2, 3, 4, 323]"
      ]
     },
     "execution_count": 176,
     "metadata": {},
     "output_type": "execute_result"
    }
   ],
   "source": [
    "ls"
   ]
  },
  {
   "cell_type": "code",
   "execution_count": 177,
   "id": "4d9f7fcd",
   "metadata": {},
   "outputs": [
    {
     "name": "stdout",
     "output_type": "stream",
     "text": [
      "{1: 'rus', 'se': 3, 32: 'jfhjdhjkf', 'five': 5, 'f2': 5, 'eightfffff': 5}\n"
     ]
    },
    {
     "data": {
      "text/plain": [
       "5"
      ]
     },
     "execution_count": 177,
     "metadata": {},
     "output_type": "execute_result"
    }
   ],
   "source": [
    "print(dictss)\n",
    "dictss.pop('five')"
   ]
  },
  {
   "cell_type": "code",
   "execution_count": 189,
   "id": "549bb97e",
   "metadata": {},
   "outputs": [
    {
     "data": {
      "text/plain": [
       "4"
      ]
     },
     "execution_count": 189,
     "metadata": {},
     "output_type": "execute_result"
    }
   ],
   "source": [
    "sete.pop()"
   ]
  },
  {
   "cell_type": "code",
   "execution_count": 186,
   "id": "a2c5700d",
   "metadata": {
    "scrolled": true
   },
   "outputs": [
    {
     "ename": "TypeError",
     "evalue": "'set' object is not callable",
     "output_type": "error",
     "traceback": [
      "\u001b[1;31m---------------------------------------------------------------------------\u001b[0m",
      "\u001b[1;31mTypeError\u001b[0m                                 Traceback (most recent call last)",
      "\u001b[1;32m~\\AppData\\Local\\Temp/ipykernel_2512/1399701805.py\u001b[0m in \u001b[0;36m<module>\u001b[1;34m\u001b[0m\n\u001b[1;32m----> 1\u001b[1;33m \u001b[0msete\u001b[0m\u001b[1;33m(\u001b[0m\u001b[1;36m2\u001b[0m\u001b[1;33m)\u001b[0m\u001b[1;33m\u001b[0m\u001b[1;33m\u001b[0m\u001b[0m\n\u001b[0m",
      "\u001b[1;31mTypeError\u001b[0m: 'set' object is not callable"
     ]
    }
   ],
   "source": [
    "sete(2)"
   ]
  },
  {
   "cell_type": "code",
   "execution_count": 190,
   "id": "9c879a39",
   "metadata": {
    "scrolled": true
   },
   "outputs": [
    {
     "ename": "ValueError",
     "evalue": "array.remove(x): x not in array",
     "output_type": "error",
     "traceback": [
      "\u001b[1;31m---------------------------------------------------------------------------\u001b[0m",
      "\u001b[1;31mValueError\u001b[0m                                Traceback (most recent call last)",
      "\u001b[1;32m~\\AppData\\Local\\Temp/ipykernel_2512/2299465526.py\u001b[0m in \u001b[0;36m<module>\u001b[1;34m\u001b[0m\n\u001b[1;32m----> 1\u001b[1;33m \u001b[0marr\u001b[0m\u001b[1;33m.\u001b[0m\u001b[0mremove\u001b[0m\u001b[1;33m(\u001b[0m\u001b[1;36m2\u001b[0m\u001b[1;33m)\u001b[0m\u001b[1;33m\u001b[0m\u001b[1;33m\u001b[0m\u001b[0m\n\u001b[0m\u001b[0;32m      2\u001b[0m \u001b[0mprint\u001b[0m\u001b[1;33m(\u001b[0m\u001b[0marr\u001b[0m\u001b[1;33m)\u001b[0m\u001b[1;33m\u001b[0m\u001b[1;33m\u001b[0m\u001b[0m\n",
      "\u001b[1;31mValueError\u001b[0m: array.remove(x): x not in array"
     ]
    }
   ],
   "source": [
    "arr.remove(2)\n",
    "print(arr)"
   ]
  },
  {
   "cell_type": "code",
   "execution_count": 191,
   "id": "76bae18c",
   "metadata": {},
   "outputs": [],
   "source": [
    "ls.remove(2)"
   ]
  },
  {
   "cell_type": "code",
   "execution_count": 192,
   "id": "7e1f6b1b",
   "metadata": {},
   "outputs": [
    {
     "name": "stdout",
     "output_type": "stream",
     "text": [
      "[1, 3, 4, 323]\n"
     ]
    }
   ],
   "source": [
    "print(ls)"
   ]
  },
  {
   "cell_type": "code",
   "execution_count": 194,
   "id": "40a99be5",
   "metadata": {},
   "outputs": [],
   "source": [
    "sete.discard(8989)"
   ]
  },
  {
   "cell_type": "code",
   "execution_count": 195,
   "id": "b14e61ed",
   "metadata": {},
   "outputs": [],
   "source": [
    "del ls"
   ]
  },
  {
   "cell_type": "code",
   "execution_count": 197,
   "id": "80ec29fc",
   "metadata": {},
   "outputs": [
    {
     "ename": "NameError",
     "evalue": "name 'ls' is not defined",
     "output_type": "error",
     "traceback": [
      "\u001b[1;31m---------------------------------------------------------------------------\u001b[0m",
      "\u001b[1;31mNameError\u001b[0m                                 Traceback (most recent call last)",
      "\u001b[1;32m~\\AppData\\Local\\Temp/ipykernel_2512/3044969327.py\u001b[0m in \u001b[0;36m<module>\u001b[1;34m\u001b[0m\n\u001b[1;32m----> 1\u001b[1;33m \u001b[0mprint\u001b[0m\u001b[1;33m(\u001b[0m\u001b[0mls\u001b[0m\u001b[1;33m)\u001b[0m\u001b[1;33m\u001b[0m\u001b[1;33m\u001b[0m\u001b[0m\n\u001b[0m",
      "\u001b[1;31mNameError\u001b[0m: name 'ls' is not defined"
     ]
    }
   ],
   "source": [
    "print(ls)"
   ]
  },
  {
   "cell_type": "code",
   "execution_count": 199,
   "id": "c47e1c62",
   "metadata": {},
   "outputs": [],
   "source": [
    "ls=[1,2,2,2,3,3,4]"
   ]
  },
  {
   "cell_type": "code",
   "execution_count": 200,
   "id": "f94fc5ac",
   "metadata": {},
   "outputs": [],
   "source": [
    "del ls[2]"
   ]
  },
  {
   "cell_type": "code",
   "execution_count": 201,
   "id": "a2a1b492",
   "metadata": {},
   "outputs": [
    {
     "name": "stdout",
     "output_type": "stream",
     "text": [
      "[1, 2, 2, 3, 3, 4]\n"
     ]
    }
   ],
   "source": [
    "print(ls)"
   ]
  },
  {
   "cell_type": "code",
   "execution_count": 202,
   "id": "ca9eb40e",
   "metadata": {},
   "outputs": [],
   "source": [
    "arr.extend((9898,10009))"
   ]
  },
  {
   "cell_type": "code",
   "execution_count": 203,
   "id": "32aa7131",
   "metadata": {},
   "outputs": [
    {
     "data": {
      "text/plain": [
       "array('i', [999, 1, 9898, 10009])"
      ]
     },
     "execution_count": 203,
     "metadata": {},
     "output_type": "execute_result"
    }
   ],
   "source": [
    "arr\n"
   ]
  },
  {
   "cell_type": "code",
   "execution_count": 204,
   "id": "59c12925",
   "metadata": {},
   "outputs": [],
   "source": [
    "arr.extend([2,22])"
   ]
  },
  {
   "cell_type": "code",
   "execution_count": 205,
   "id": "36940671",
   "metadata": {},
   "outputs": [
    {
     "data": {
      "text/plain": [
       "array('i', [999, 1, 9898, 10009, 2, 22])"
      ]
     },
     "execution_count": 205,
     "metadata": {},
     "output_type": "execute_result"
    }
   ],
   "source": [
    "arr"
   ]
  },
  {
   "cell_type": "code",
   "execution_count": 206,
   "id": "7b46a495",
   "metadata": {},
   "outputs": [
    {
     "ename": "TypeError",
     "evalue": "an integer is required (got type str)",
     "output_type": "error",
     "traceback": [
      "\u001b[1;31m---------------------------------------------------------------------------\u001b[0m",
      "\u001b[1;31mTypeError\u001b[0m                                 Traceback (most recent call last)",
      "\u001b[1;32m~\\AppData\\Local\\Temp/ipykernel_2512/842232871.py\u001b[0m in \u001b[0;36m<module>\u001b[1;34m\u001b[0m\n\u001b[1;32m----> 1\u001b[1;33m \u001b[0marr\u001b[0m\u001b[1;33m.\u001b[0m\u001b[0mextend\u001b[0m\u001b[1;33m(\u001b[0m\u001b[1;33m[\u001b[0m\u001b[1;34m'sam'\u001b[0m\u001b[1;33m]\u001b[0m\u001b[1;33m)\u001b[0m\u001b[1;33m\u001b[0m\u001b[1;33m\u001b[0m\u001b[0m\n\u001b[0m",
      "\u001b[1;31mTypeError\u001b[0m: an integer is required (got type str)"
     ]
    }
   ],
   "source": [
    "arr.extend(['sam'])"
   ]
  },
  {
   "cell_type": "code",
   "execution_count": 207,
   "id": "4a36fe64",
   "metadata": {},
   "outputs": [
    {
     "name": "stdout",
     "output_type": "stream",
     "text": [
      "<class 'list'>\n"
     ]
    }
   ],
   "source": [
    "print(list)"
   ]
  },
  {
   "cell_type": "code",
   "execution_count": 208,
   "id": "a9b06697",
   "metadata": {},
   "outputs": [
    {
     "name": "stdout",
     "output_type": "stream",
     "text": [
      "[1, 2, 2, 3, 3, 4]\n"
     ]
    }
   ],
   "source": [
    "print(ls)"
   ]
  },
  {
   "cell_type": "code",
   "execution_count": 209,
   "id": "76d42914",
   "metadata": {},
   "outputs": [],
   "source": [
    "arr.fromlist(ls)"
   ]
  },
  {
   "cell_type": "code",
   "execution_count": 210,
   "id": "6dca6ca0",
   "metadata": {},
   "outputs": [
    {
     "name": "stdout",
     "output_type": "stream",
     "text": [
      "[1, 2, 2, 3, 3, 4]\n"
     ]
    }
   ],
   "source": [
    "print(ls)"
   ]
  },
  {
   "cell_type": "code",
   "execution_count": 211,
   "id": "dfef26f6",
   "metadata": {},
   "outputs": [
    {
     "data": {
      "text/plain": [
       "array('i', [999, 1, 9898, 10009, 2, 22, 1, 2, 2, 3, 3, 4])"
      ]
     },
     "execution_count": 211,
     "metadata": {},
     "output_type": "execute_result"
    }
   ],
   "source": [
    "arr"
   ]
  },
  {
   "cell_type": "code",
   "execution_count": 212,
   "id": "3de0492f",
   "metadata": {},
   "outputs": [
    {
     "data": {
      "text/plain": [
       "[999, 1, 9898, 10009, 2, 22, 1, 2, 2, 3, 3, 4]"
      ]
     },
     "execution_count": 212,
     "metadata": {},
     "output_type": "execute_result"
    }
   ],
   "source": [
    "arr.tolist()"
   ]
  },
  {
   "cell_type": "code",
   "execution_count": 213,
   "id": "00df6cca",
   "metadata": {},
   "outputs": [
    {
     "data": {
      "text/plain": [
       "array('i', [999, 1, 9898, 10009, 2, 22, 1, 2, 2, 3, 3, 4])"
      ]
     },
     "execution_count": 213,
     "metadata": {},
     "output_type": "execute_result"
    }
   ],
   "source": [
    "arr"
   ]
  },
  {
   "cell_type": "code",
   "execution_count": 214,
   "id": "ac8312d9",
   "metadata": {},
   "outputs": [
    {
     "name": "stdout",
     "output_type": "stream",
     "text": [
      "array('i', [999, 1, 9898, 10009, 2, 22, 1, 2, 2, 3, 3, 4])\n"
     ]
    }
   ],
   "source": [
    "print(arr)"
   ]
  },
  {
   "cell_type": "code",
   "execution_count": 215,
   "id": "984cce0e",
   "metadata": {},
   "outputs": [
    {
     "data": {
      "text/plain": [
       "{222, 2222, 222222, 56567, 'fghsf'}"
      ]
     },
     "execution_count": 215,
     "metadata": {},
     "output_type": "execute_result"
    }
   ],
   "source": [
    "sete"
   ]
  },
  {
   "cell_type": "code",
   "execution_count": 219,
   "id": "2bb32d9d",
   "metadata": {},
   "outputs": [],
   "source": [
    "b={99,990,222}"
   ]
  },
  {
   "cell_type": "code",
   "execution_count": 217,
   "id": "5b7a7ef6",
   "metadata": {},
   "outputs": [
    {
     "data": {
      "text/plain": [
       "{222, 2222, 222222, 56567, 99, 990, 'fghsf'}"
      ]
     },
     "execution_count": 217,
     "metadata": {},
     "output_type": "execute_result"
    }
   ],
   "source": [
    "sete.union(b)"
   ]
  },
  {
   "cell_type": "code",
   "execution_count": 220,
   "id": "1dea9460",
   "metadata": {},
   "outputs": [
    {
     "data": {
      "text/plain": [
       "{222}"
      ]
     },
     "execution_count": 220,
     "metadata": {},
     "output_type": "execute_result"
    }
   ],
   "source": [
    "sete.intersection(b)"
   ]
  },
  {
   "cell_type": "code",
   "execution_count": 221,
   "id": "37de932f",
   "metadata": {},
   "outputs": [
    {
     "name": "stdout",
     "output_type": "stream",
     "text": [
      "{222}\n"
     ]
    }
   ],
   "source": [
    "print(sete&b)"
   ]
  },
  {
   "cell_type": "code",
   "execution_count": 222,
   "id": "137cbc4f",
   "metadata": {},
   "outputs": [
    {
     "name": "stdout",
     "output_type": "stream",
     "text": [
      "{99, 990, 222222, 'fghsf', 56567, 222, 2222}\n"
     ]
    }
   ],
   "source": [
    "print(sete|b)"
   ]
  },
  {
   "cell_type": "code",
   "execution_count": 4,
   "id": "be8105d5",
   "metadata": {},
   "outputs": [],
   "source": [
    "import numpy as np\n"
   ]
  },
  {
   "cell_type": "code",
   "execution_count": 3,
   "id": "b3901aa1",
   "metadata": {},
   "outputs": [],
   "source": [
    "ls=[1,2,3,4,5]"
   ]
  },
  {
   "cell_type": "code",
   "execution_count": 8,
   "id": "c7260445",
   "metadata": {},
   "outputs": [],
   "source": [
    "ar=np.array(ls)"
   ]
  },
  {
   "cell_type": "code",
   "execution_count": 226,
   "id": "24484b4b",
   "metadata": {},
   "outputs": [
    {
     "ename": "NameError",
     "evalue": "name 'sr' is not defined",
     "output_type": "error",
     "traceback": [
      "\u001b[1;31m---------------------------------------------------------------------------\u001b[0m",
      "\u001b[1;31mNameError\u001b[0m                                 Traceback (most recent call last)",
      "\u001b[1;32m~\\AppData\\Local\\Temp/ipykernel_2512/3806080706.py\u001b[0m in \u001b[0;36m<module>\u001b[1;34m\u001b[0m\n\u001b[1;32m----> 1\u001b[1;33m \u001b[0msr\u001b[0m\u001b[1;33m\u001b[0m\u001b[1;33m\u001b[0m\u001b[0m\n\u001b[0m",
      "\u001b[1;31mNameError\u001b[0m: name 'sr' is not defined"
     ]
    }
   ],
   "source": [
    "sr"
   ]
  },
  {
   "cell_type": "code",
   "execution_count": 227,
   "id": "b5a669e4",
   "metadata": {},
   "outputs": [
    {
     "data": {
      "text/plain": [
       "array([1, 2, 2, 3, 3, 4])"
      ]
     },
     "execution_count": 227,
     "metadata": {},
     "output_type": "execute_result"
    }
   ],
   "source": [
    "ar"
   ]
  },
  {
   "cell_type": "code",
   "execution_count": 9,
   "id": "d88cdd06",
   "metadata": {},
   "outputs": [
    {
     "name": "stdout",
     "output_type": "stream",
     "text": [
      "[1 2 3 4 5]\n"
     ]
    }
   ],
   "source": [
    "print(ar)"
   ]
  },
  {
   "cell_type": "code",
   "execution_count": 5,
   "id": "e0c98257",
   "metadata": {},
   "outputs": [],
   "source": [
    "ar1=np.array(ls,dtype= str )"
   ]
  },
  {
   "cell_type": "code",
   "execution_count": 10,
   "id": "3884d9a1",
   "metadata": {},
   "outputs": [
    {
     "name": "stdout",
     "output_type": "stream",
     "text": [
      "['1' '2' '3' '4' '5']\n"
     ]
    }
   ],
   "source": [
    "print(ar1)"
   ]
  },
  {
   "cell_type": "code",
   "execution_count": 11,
   "id": "952fb695",
   "metadata": {},
   "outputs": [
    {
     "ename": "AttributeError",
     "evalue": "'numpy.ndarray' object has no attribute 'type'",
     "output_type": "error",
     "traceback": [
      "\u001b[1;31m---------------------------------------------------------------------------\u001b[0m",
      "\u001b[1;31mAttributeError\u001b[0m                            Traceback (most recent call last)",
      "\u001b[1;32m~\\AppData\\Local\\Temp/ipykernel_12244/2897121848.py\u001b[0m in \u001b[0;36m<module>\u001b[1;34m\u001b[0m\n\u001b[1;32m----> 1\u001b[1;33m \u001b[0mar\u001b[0m\u001b[1;33m.\u001b[0m\u001b[0mtype\u001b[0m\u001b[1;33m(\u001b[0m\u001b[1;33m)\u001b[0m\u001b[1;33m\u001b[0m\u001b[1;33m\u001b[0m\u001b[0m\n\u001b[0m",
      "\u001b[1;31mAttributeError\u001b[0m: 'numpy.ndarray' object has no attribute 'type'"
     ]
    }
   ],
   "source": [
    "ar.type()"
   ]
  },
  {
   "cell_type": "code",
   "execution_count": 12,
   "id": "cb620786",
   "metadata": {},
   "outputs": [
    {
     "data": {
      "text/plain": [
       "numpy.ndarray"
      ]
     },
     "execution_count": 12,
     "metadata": {},
     "output_type": "execute_result"
    }
   ],
   "source": [
    "type(ar1)"
   ]
  },
  {
   "cell_type": "code",
   "execution_count": 13,
   "id": "e7db8db7",
   "metadata": {},
   "outputs": [
    {
     "data": {
      "text/plain": [
       "5"
      ]
     },
     "execution_count": 13,
     "metadata": {},
     "output_type": "execute_result"
    }
   ],
   "source": [
    "len(ar1)"
   ]
  },
  {
   "cell_type": "code",
   "execution_count": 14,
   "id": "c44e5006",
   "metadata": {},
   "outputs": [
    {
     "data": {
      "text/plain": [
       "1"
      ]
     },
     "execution_count": 14,
     "metadata": {},
     "output_type": "execute_result"
    }
   ],
   "source": [
    "ar1.ndim"
   ]
  },
  {
   "cell_type": "code",
   "execution_count": 15,
   "id": "c023156b",
   "metadata": {},
   "outputs": [
    {
     "data": {
      "text/plain": [
       "(5,)"
      ]
     },
     "execution_count": 15,
     "metadata": {},
     "output_type": "execute_result"
    }
   ],
   "source": [
    "ar.shape"
   ]
  },
  {
   "cell_type": "code",
   "execution_count": 16,
   "id": "12dedf68",
   "metadata": {},
   "outputs": [],
   "source": [
    "ar=ar.reshape(5,1)"
   ]
  },
  {
   "cell_type": "code",
   "execution_count": 17,
   "id": "e9593e69",
   "metadata": {},
   "outputs": [
    {
     "data": {
      "text/plain": [
       "(5, 1)"
      ]
     },
     "execution_count": 17,
     "metadata": {},
     "output_type": "execute_result"
    }
   ],
   "source": [
    "ar.shape"
   ]
  },
  {
   "cell_type": "code",
   "execution_count": 18,
   "id": "04740504",
   "metadata": {},
   "outputs": [
    {
     "data": {
      "text/plain": [
       "array([[1],\n",
       "       [2],\n",
       "       [3],\n",
       "       [4],\n",
       "       [5]])"
      ]
     },
     "execution_count": 18,
     "metadata": {},
     "output_type": "execute_result"
    }
   ],
   "source": [
    "ar"
   ]
  },
  {
   "cell_type": "code",
   "execution_count": 25,
   "id": "0c8caea2",
   "metadata": {},
   "outputs": [],
   "source": [
    "ar1=ar1.reshape(1,-1)"
   ]
  },
  {
   "cell_type": "code",
   "execution_count": 26,
   "id": "b9499002",
   "metadata": {},
   "outputs": [
    {
     "data": {
      "text/plain": [
       "array([['1', '2', '3', '4', '5']], dtype='<U1')"
      ]
     },
     "execution_count": 26,
     "metadata": {},
     "output_type": "execute_result"
    }
   ],
   "source": [
    "ar1"
   ]
  },
  {
   "cell_type": "code",
   "execution_count": 27,
   "id": "e73cb701",
   "metadata": {},
   "outputs": [
    {
     "data": {
      "text/plain": [
       "(1, 5)"
      ]
     },
     "execution_count": 27,
     "metadata": {},
     "output_type": "execute_result"
    }
   ],
   "source": [
    "ar1.shape"
   ]
  },
  {
   "cell_type": "code",
   "execution_count": 28,
   "id": "9412f32b",
   "metadata": {},
   "outputs": [],
   "source": [
    "ls1=[1,2]\n",
    "ls2=[3,4]"
   ]
  },
  {
   "cell_type": "code",
   "execution_count": 31,
   "id": "e1f1b234",
   "metadata": {},
   "outputs": [],
   "source": [
    "ar2=np.array([ls1,ls2])"
   ]
  },
  {
   "cell_type": "code",
   "execution_count": 32,
   "id": "5dc13b83",
   "metadata": {},
   "outputs": [
    {
     "data": {
      "text/plain": [
       "array([[1, 2],\n",
       "       [3, 4]])"
      ]
     },
     "execution_count": 32,
     "metadata": {},
     "output_type": "execute_result"
    }
   ],
   "source": [
    "ar2"
   ]
  },
  {
   "cell_type": "code",
   "execution_count": 33,
   "id": "e314e34b",
   "metadata": {},
   "outputs": [
    {
     "data": {
      "text/plain": [
       "(2, 2)"
      ]
     },
     "execution_count": 33,
     "metadata": {},
     "output_type": "execute_result"
    }
   ],
   "source": [
    "ar2.shape"
   ]
  },
  {
   "cell_type": "code",
   "execution_count": 34,
   "id": "4cffb1e5",
   "metadata": {},
   "outputs": [],
   "source": [
    "ar2.shape=(1,4)"
   ]
  },
  {
   "cell_type": "code",
   "execution_count": 35,
   "id": "f3d5e3f9",
   "metadata": {},
   "outputs": [
    {
     "data": {
      "text/plain": [
       "array([[1, 2, 3, 4]])"
      ]
     },
     "execution_count": 35,
     "metadata": {},
     "output_type": "execute_result"
    }
   ],
   "source": [
    "ar2"
   ]
  },
  {
   "cell_type": "code",
   "execution_count": 36,
   "id": "a857bb60",
   "metadata": {},
   "outputs": [],
   "source": [
    "r=range(20)"
   ]
  },
  {
   "cell_type": "code",
   "execution_count": 37,
   "id": "9a69e47b",
   "metadata": {},
   "outputs": [
    {
     "data": {
      "text/plain": [
       "range(0, 20)"
      ]
     },
     "execution_count": 37,
     "metadata": {},
     "output_type": "execute_result"
    }
   ],
   "source": [
    "r"
   ]
  },
  {
   "cell_type": "code",
   "execution_count": 38,
   "id": "58fcc2be",
   "metadata": {},
   "outputs": [],
   "source": [
    "ar3=np.arange(9)"
   ]
  },
  {
   "cell_type": "code",
   "execution_count": 39,
   "id": "78b6aa71",
   "metadata": {},
   "outputs": [
    {
     "data": {
      "text/plain": [
       "array([0, 1, 2, 3, 4, 5, 6, 7, 8])"
      ]
     },
     "execution_count": 39,
     "metadata": {},
     "output_type": "execute_result"
    }
   ],
   "source": [
    "ar3"
   ]
  },
  {
   "cell_type": "code",
   "execution_count": 40,
   "id": "55fc14a6",
   "metadata": {},
   "outputs": [
    {
     "data": {
      "text/plain": [
       "(9,)"
      ]
     },
     "execution_count": 40,
     "metadata": {},
     "output_type": "execute_result"
    }
   ],
   "source": [
    "ar3.shape"
   ]
  },
  {
   "cell_type": "code",
   "execution_count": 42,
   "id": "f4ba67c8",
   "metadata": {},
   "outputs": [
    {
     "data": {
      "text/plain": [
       "1"
      ]
     },
     "execution_count": 42,
     "metadata": {},
     "output_type": "execute_result"
    }
   ],
   "source": [
    "ar3.ndim"
   ]
  },
  {
   "cell_type": "code",
   "execution_count": 46,
   "id": "8a0a8cbf",
   "metadata": {},
   "outputs": [],
   "source": [
    "c=ar3.reshape(9,1,1)"
   ]
  },
  {
   "cell_type": "code",
   "execution_count": 47,
   "id": "995cc34b",
   "metadata": {},
   "outputs": [
    {
     "data": {
      "text/plain": [
       "array([[[0]],\n",
       "\n",
       "       [[1]],\n",
       "\n",
       "       [[2]],\n",
       "\n",
       "       [[3]],\n",
       "\n",
       "       [[4]],\n",
       "\n",
       "       [[5]],\n",
       "\n",
       "       [[6]],\n",
       "\n",
       "       [[7]],\n",
       "\n",
       "       [[8]]])"
      ]
     },
     "execution_count": 47,
     "metadata": {},
     "output_type": "execute_result"
    }
   ],
   "source": [
    "c"
   ]
  },
  {
   "cell_type": "code",
   "execution_count": 48,
   "id": "3f13f0d9",
   "metadata": {},
   "outputs": [],
   "source": [
    "x=np.array([[1,2],[3,4]],dtype=np.float64)\n",
    "y=np.array([[1,1],[1,1]],dtype=np.float64)"
   ]
  },
  {
   "cell_type": "code",
   "execution_count": 49,
   "id": "4a661998",
   "metadata": {},
   "outputs": [
    {
     "data": {
      "text/plain": [
       "array([[1., 1.],\n",
       "       [1., 1.]])"
      ]
     },
     "execution_count": 49,
     "metadata": {},
     "output_type": "execute_result"
    }
   ],
   "source": [
    "x\n",
    "y"
   ]
  },
  {
   "cell_type": "code",
   "execution_count": 50,
   "id": "6f6a2a00",
   "metadata": {},
   "outputs": [
    {
     "data": {
      "text/plain": [
       "array([[1., 2.],\n",
       "       [3., 4.]])"
      ]
     },
     "execution_count": 50,
     "metadata": {},
     "output_type": "execute_result"
    }
   ],
   "source": [
    "x\n",
    "\n"
   ]
  },
  {
   "cell_type": "code",
   "execution_count": 51,
   "id": "f7442801",
   "metadata": {},
   "outputs": [
    {
     "data": {
      "text/plain": [
       "array([[1., 1.],\n",
       "       [1., 1.]])"
      ]
     },
     "execution_count": 51,
     "metadata": {},
     "output_type": "execute_result"
    }
   ],
   "source": [
    "y"
   ]
  },
  {
   "cell_type": "code",
   "execution_count": 52,
   "id": "35578aaf",
   "metadata": {},
   "outputs": [
    {
     "data": {
      "text/plain": [
       "array([[0., 1.],\n",
       "       [2., 3.]])"
      ]
     },
     "execution_count": 52,
     "metadata": {},
     "output_type": "execute_result"
    }
   ],
   "source": [
    "x-y"
   ]
  },
  {
   "cell_type": "code",
   "execution_count": 53,
   "id": "2c59d6ea",
   "metadata": {},
   "outputs": [
    {
     "ename": "SyntaxError",
     "evalue": "invalid syntax (Temp/ipykernel_12244/1316669124.py, line 1)",
     "output_type": "error",
     "traceback": [
      "\u001b[1;36m  File \u001b[1;32m\"C:\\Users\\risha\\AppData\\Local\\Temp/ipykernel_12244/1316669124.py\"\u001b[1;36m, line \u001b[1;32m1\u001b[0m\n\u001b[1;33m    x add y\u001b[0m\n\u001b[1;37m      ^\u001b[0m\n\u001b[1;31mSyntaxError\u001b[0m\u001b[1;31m:\u001b[0m invalid syntax\n"
     ]
    }
   ],
   "source": [
    "x add y"
   ]
  },
  {
   "cell_type": "code",
   "execution_count": 54,
   "id": "ac3f3046",
   "metadata": {},
   "outputs": [
    {
     "ename": "SyntaxError",
     "evalue": "invalid syntax (Temp/ipykernel_12244/3021196491.py, line 1)",
     "output_type": "error",
     "traceback": [
      "\u001b[1;36m  File \u001b[1;32m\"C:\\Users\\risha\\AppData\\Local\\Temp/ipykernel_12244/3021196491.py\"\u001b[1;36m, line \u001b[1;32m1\u001b[0m\n\u001b[1;33m    x sum y\u001b[0m\n\u001b[1;37m      ^\u001b[0m\n\u001b[1;31mSyntaxError\u001b[0m\u001b[1;31m:\u001b[0m invalid syntax\n"
     ]
    }
   ],
   "source": [
    "x sum y"
   ]
  },
  {
   "cell_type": "code",
   "execution_count": 55,
   "id": "41dc2371",
   "metadata": {},
   "outputs": [
    {
     "data": {
      "text/plain": [
       "array([[5., 7.],\n",
       "       [5., 7.]])"
      ]
     },
     "execution_count": 55,
     "metadata": {},
     "output_type": "execute_result"
    }
   ],
   "source": [
    "sum(x,y)"
   ]
  },
  {
   "cell_type": "code",
   "execution_count": 57,
   "id": "bded5828",
   "metadata": {},
   "outputs": [
    {
     "data": {
      "text/plain": [
       "array([[2., 3.],\n",
       "       [4., 5.]])"
      ]
     },
     "execution_count": 57,
     "metadata": {},
     "output_type": "execute_result"
    }
   ],
   "source": [
    "np.add(x,y)"
   ]
  },
  {
   "cell_type": "code",
   "execution_count": 58,
   "id": "d49362ec",
   "metadata": {},
   "outputs": [
    {
     "data": {
      "text/plain": [
       "array([[3., 3.],\n",
       "       [7., 7.]])"
      ]
     },
     "execution_count": 58,
     "metadata": {},
     "output_type": "execute_result"
    }
   ],
   "source": [
    "np.dot(x,y)"
   ]
  },
  {
   "cell_type": "code",
   "execution_count": 61,
   "id": "b067db46",
   "metadata": {},
   "outputs": [
    {
     "data": {
      "text/plain": [
       "array([[3., 3.],\n",
       "       [7., 7.]])"
      ]
     },
     "execution_count": 61,
     "metadata": {},
     "output_type": "execute_result"
    }
   ],
   "source": [
    "x.dot(y)"
   ]
  },
  {
   "cell_type": "code",
   "execution_count": 62,
   "id": "0c265238",
   "metadata": {},
   "outputs": [
    {
     "data": {
      "text/plain": [
       "4.0"
      ]
     },
     "execution_count": 62,
     "metadata": {},
     "output_type": "execute_result"
    }
   ],
   "source": [
    "np.sum(y)"
   ]
  },
  {
   "cell_type": "code",
   "execution_count": 63,
   "id": "900d894d",
   "metadata": {},
   "outputs": [
    {
     "data": {
      "text/plain": [
       "array([2., 2.])"
      ]
     },
     "execution_count": 63,
     "metadata": {},
     "output_type": "execute_result"
    }
   ],
   "source": [
    "np.sum(y,0)"
   ]
  },
  {
   "cell_type": "code",
   "execution_count": null,
   "id": "abe0f86a",
   "metadata": {},
   "outputs": [],
   "source": []
  }
 ],
 "metadata": {
  "kernelspec": {
   "display_name": "Python 3 (ipykernel)",
   "language": "python",
   "name": "python3"
  },
  "language_info": {
   "codemirror_mode": {
    "name": "ipython",
    "version": 3
   },
   "file_extension": ".py",
   "mimetype": "text/x-python",
   "name": "python",
   "nbconvert_exporter": "python",
   "pygments_lexer": "ipython3",
   "version": "3.8.8"
  }
 },
 "nbformat": 4,
 "nbformat_minor": 5
}
