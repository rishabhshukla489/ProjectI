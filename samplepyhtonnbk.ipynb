{
 "cells": [
  {
   "cell_type": "code",
   "execution_count": 2,
   "id": "4b2fab3f",
   "metadata": {},
   "outputs": [],
   "source": [
    "a=5"
   ]
  },
  {
   "cell_type": "code",
   "execution_count": 3,
   "id": "6496acbd",
   "metadata": {},
   "outputs": [
    {
     "name": "stdout",
     "output_type": "stream",
     "text": [
      "5\n"
     ]
    }
   ],
   "source": [
    "print(a)"
   ]
  },
  {
   "cell_type": "markdown",
   "id": "e67ea6c3",
   "metadata": {},
   "source": [
    "demo"
   ]
  },
  {
   "cell_type": "markdown",
   "id": "ca525002",
   "metadata": {},
   "source": [
    "#jupyter"
   ]
  },
  {
   "cell_type": "markdown",
   "id": "d4a635fa",
   "metadata": {},
   "source": [
    "\n",
    "# notebook\n"
   ]
  },
  {
   "cell_type": "code",
   "execution_count": 99,
   "id": "bc1ac59f",
   "metadata": {},
   "outputs": [],
   "source": [
    "str='sddsddsds yyuy jjk'"
   ]
  },
  {
   "cell_type": "code",
   "execution_count": 51,
   "id": "cc08fa89",
   "metadata": {},
   "outputs": [
    {
     "data": {
      "text/plain": [
       "'ds'"
      ]
     },
     "execution_count": 51,
     "metadata": {},
     "output_type": "execute_result"
    }
   ],
   "source": [
    "str[slice(1,4,2)]"
   ]
  },
  {
   "cell_type": "code",
   "execution_count": 52,
   "id": "92578467",
   "metadata": {},
   "outputs": [
    {
     "data": {
      "text/plain": [
       "'sddsddsds'"
      ]
     },
     "execution_count": 52,
     "metadata": {},
     "output_type": "execute_result"
    }
   ],
   "source": [
    "str[:]"
   ]
  },
  {
   "cell_type": "code",
   "execution_count": 34,
   "id": "3795c6b4",
   "metadata": {},
   "outputs": [
    {
     "data": {
      "text/plain": [
       "1"
      ]
     },
     "execution_count": 34,
     "metadata": {},
     "output_type": "execute_result"
    }
   ],
   "source": [
    "str.index('dds')"
   ]
  },
  {
   "cell_type": "code",
   "execution_count": 35,
   "id": "51036774",
   "metadata": {},
   "outputs": [
    {
     "data": {
      "text/plain": [
       "'d'"
      ]
     },
     "execution_count": 35,
     "metadata": {},
     "output_type": "execute_result"
    }
   ],
   "source": [
    "str[5]"
   ]
  },
  {
   "cell_type": "code",
   "execution_count": 36,
   "id": "1963bd21",
   "metadata": {},
   "outputs": [
    {
     "data": {
      "text/plain": [
       "'s'"
      ]
     },
     "execution_count": 36,
     "metadata": {},
     "output_type": "execute_result"
    }
   ],
   "source": [
    "str[-3]"
   ]
  },
  {
   "cell_type": "code",
   "execution_count": 2,
   "id": "c205cb95",
   "metadata": {},
   "outputs": [
    {
     "name": "stdout",
     "output_type": "stream",
     "text": [
      "sds\n"
     ]
    }
   ],
   "source": [
    "print(str)"
   ]
  },
  {
   "cell_type": "code",
   "execution_count": 4,
   "id": "fe2c5f84",
   "metadata": {},
   "outputs": [],
   "source": [
    "ls=[1,'d',3.9]"
   ]
  },
  {
   "cell_type": "code",
   "execution_count": 53,
   "id": "3ca07ab0",
   "metadata": {},
   "outputs": [
    {
     "data": {
      "text/plain": [
       "[1, 'd']"
      ]
     },
     "execution_count": 53,
     "metadata": {},
     "output_type": "execute_result"
    }
   ],
   "source": [
    "ls[:2]"
   ]
  },
  {
   "cell_type": "code",
   "execution_count": 54,
   "id": "f7907f6a",
   "metadata": {},
   "outputs": [
    {
     "data": {
      "text/plain": [
       "['d']"
      ]
     },
     "execution_count": 54,
     "metadata": {},
     "output_type": "execute_result"
    }
   ],
   "source": [
    "ls[1:2]"
   ]
  },
  {
   "cell_type": "code",
   "execution_count": 55,
   "id": "b6f95f2d",
   "metadata": {},
   "outputs": [
    {
     "data": {
      "text/plain": [
       "['d', 3.9]"
      ]
     },
     "execution_count": 55,
     "metadata": {},
     "output_type": "execute_result"
    }
   ],
   "source": [
    "ls[1:3:1]"
   ]
  },
  {
   "cell_type": "code",
   "execution_count": 37,
   "id": "14dbf3a2",
   "metadata": {},
   "outputs": [
    {
     "data": {
      "text/plain": [
       "1"
      ]
     },
     "execution_count": 37,
     "metadata": {},
     "output_type": "execute_result"
    }
   ],
   "source": [
    "ls.index('d')"
   ]
  },
  {
   "cell_type": "code",
   "execution_count": 38,
   "id": "fb69391e",
   "metadata": {},
   "outputs": [
    {
     "data": {
      "text/plain": [
       "3.9"
      ]
     },
     "execution_count": 38,
     "metadata": {},
     "output_type": "execute_result"
    }
   ],
   "source": [
    "ls[2]"
   ]
  },
  {
   "cell_type": "code",
   "execution_count": 39,
   "id": "a4d00c8e",
   "metadata": {},
   "outputs": [
    {
     "data": {
      "text/plain": [
       "1"
      ]
     },
     "execution_count": 39,
     "metadata": {},
     "output_type": "execute_result"
    }
   ],
   "source": [
    "ls[-3]"
   ]
  },
  {
   "cell_type": "code",
   "execution_count": 5,
   "id": "b4603a32",
   "metadata": {},
   "outputs": [
    {
     "name": "stdout",
     "output_type": "stream",
     "text": [
      "[1, 'd', 3.9]\n"
     ]
    }
   ],
   "source": [
    "print(ls)"
   ]
  },
  {
   "cell_type": "code",
   "execution_count": 10,
   "id": "648f354e",
   "metadata": {},
   "outputs": [],
   "source": [
    "from array import *\n",
    "arr=array('i',[1,2,2,4])"
   ]
  },
  {
   "cell_type": "code",
   "execution_count": 69,
   "id": "3e9e5f17",
   "metadata": {},
   "outputs": [
    {
     "ename": "TypeError",
     "evalue": "can only append array (not \"int\") to array",
     "output_type": "error",
     "traceback": [
      "\u001b[1;31m---------------------------------------------------------------------------\u001b[0m",
      "\u001b[1;31mTypeError\u001b[0m                                 Traceback (most recent call last)",
      "\u001b[1;32m~\\AppData\\Local\\Temp/ipykernel_2512/3917488193.py\u001b[0m in \u001b[0;36m<module>\u001b[1;34m\u001b[0m\n\u001b[1;32m----> 1\u001b[1;33m \u001b[0mprint\u001b[0m\u001b[1;33m(\u001b[0m\u001b[0marr\u001b[0m\u001b[1;33m+\u001b[0m\u001b[1;36m3\u001b[0m\u001b[1;33m)\u001b[0m\u001b[1;33m\u001b[0m\u001b[1;33m\u001b[0m\u001b[0m\n\u001b[0m",
      "\u001b[1;31mTypeError\u001b[0m: can only append array (not \"int\") to array"
     ]
    }
   ],
   "source": [
    "print(arr+ 3)"
   ]
  },
  {
   "cell_type": "code",
   "execution_count": 59,
   "id": "3ddcff01",
   "metadata": {},
   "outputs": [
    {
     "data": {
      "text/plain": [
       "array('i', [2, 2])"
      ]
     },
     "execution_count": 59,
     "metadata": {},
     "output_type": "execute_result"
    }
   ],
   "source": [
    "arr[1:-1]"
   ]
  },
  {
   "cell_type": "code",
   "execution_count": 40,
   "id": "cbb409c4",
   "metadata": {},
   "outputs": [
    {
     "data": {
      "text/plain": [
       "2"
      ]
     },
     "execution_count": 40,
     "metadata": {},
     "output_type": "execute_result"
    }
   ],
   "source": [
    "arr[2]"
   ]
  },
  {
   "cell_type": "code",
   "execution_count": 41,
   "id": "d244b64e",
   "metadata": {},
   "outputs": [
    {
     "data": {
      "text/plain": [
       "2"
      ]
     },
     "execution_count": 41,
     "metadata": {},
     "output_type": "execute_result"
    }
   ],
   "source": [
    "arr[-2]"
   ]
  },
  {
   "cell_type": "code",
   "execution_count": 7,
   "id": "3f6858a1",
   "metadata": {},
   "outputs": [
    {
     "name": "stdout",
     "output_type": "stream",
     "text": [
      "array('i', [1, 2, 3, 4])\n"
     ]
    }
   ],
   "source": [
    "print(arr)"
   ]
  },
  {
   "cell_type": "code",
   "execution_count": 11,
   "id": "f980bad0",
   "metadata": {},
   "outputs": [
    {
     "name": "stdout",
     "output_type": "stream",
     "text": [
      "1\n",
      "2\n",
      "2\n",
      "4\n"
     ]
    }
   ],
   "source": [
    "for x in arr: print(x)"
   ]
  },
  {
   "cell_type": "code",
   "execution_count": 14,
   "id": "12db34b4",
   "metadata": {},
   "outputs": [],
   "source": [
    "tu=(1,9,'4f')"
   ]
  },
  {
   "cell_type": "code",
   "execution_count": 61,
   "id": "7c9dff03",
   "metadata": {},
   "outputs": [
    {
     "data": {
      "text/plain": [
       "(9, '4f')"
      ]
     },
     "execution_count": 61,
     "metadata": {},
     "output_type": "execute_result"
    }
   ],
   "source": [
    "tu[1:3]"
   ]
  },
  {
   "cell_type": "code",
   "execution_count": 42,
   "id": "6bf2c30c",
   "metadata": {},
   "outputs": [
    {
     "data": {
      "text/plain": [
       "1"
      ]
     },
     "execution_count": 42,
     "metadata": {},
     "output_type": "execute_result"
    }
   ],
   "source": [
    "tu.index(9)"
   ]
  },
  {
   "cell_type": "code",
   "execution_count": 15,
   "id": "f8e8bb0b",
   "metadata": {},
   "outputs": [
    {
     "name": "stdout",
     "output_type": "stream",
     "text": [
      "(1, 9, '4f')\n"
     ]
    }
   ],
   "source": [
    "print(tu)"
   ]
  },
  {
   "cell_type": "code",
   "execution_count": 16,
   "id": "7f8e963d",
   "metadata": {},
   "outputs": [
    {
     "name": "stdout",
     "output_type": "stream",
     "text": [
      "(1, 2, 'rr')\n"
     ]
    }
   ],
   "source": [
    "tup=1,2,'rr'\n",
    "print(tup)"
   ]
  },
  {
   "cell_type": "code",
   "execution_count": 82,
   "id": "cfba2d55",
   "metadata": {},
   "outputs": [
    {
     "name": "stdout",
     "output_type": "stream",
     "text": [
      "(1, 2, 'rr', 'r', 't', 'r', 't')\n"
     ]
    }
   ],
   "source": [
    "tup+=('r','t')\n",
    "print(tup)"
   ]
  },
  {
   "cell_type": "code",
   "execution_count": 43,
   "id": "5f2a0319",
   "metadata": {},
   "outputs": [
    {
     "data": {
      "text/plain": [
       "'rr'"
      ]
     },
     "execution_count": 43,
     "metadata": {},
     "output_type": "execute_result"
    }
   ],
   "source": [
    "tup[2]"
   ]
  },
  {
   "cell_type": "code",
   "execution_count": 17,
   "id": "ff12b276",
   "metadata": {},
   "outputs": [],
   "source": [
    "dicts={1:\"dghdg\",'sec':7}\n"
   ]
  },
  {
   "cell_type": "code",
   "execution_count": 56,
   "id": "af029f1b",
   "metadata": {},
   "outputs": [
    {
     "ename": "TypeError",
     "evalue": "'type' object is not subscriptable",
     "output_type": "error",
     "traceback": [
      "\u001b[1;31m---------------------------------------------------------------------------\u001b[0m",
      "\u001b[1;31mTypeError\u001b[0m                                 Traceback (most recent call last)",
      "\u001b[1;32m~\\AppData\\Local\\Temp/ipykernel_2512/2859365520.py\u001b[0m in \u001b[0;36m<module>\u001b[1;34m\u001b[0m\n\u001b[1;32m----> 1\u001b[1;33m \u001b[0mdict\u001b[0m\u001b[1;33m[\u001b[0m\u001b[1;33m:\u001b[0m\u001b[1;36m2\u001b[0m\u001b[1;33m]\u001b[0m\u001b[1;33m\u001b[0m\u001b[1;33m\u001b[0m\u001b[0m\n\u001b[0m",
      "\u001b[1;31mTypeError\u001b[0m: 'type' object is not subscriptable"
     ]
    }
   ],
   "source": [
    "dict[:2]"
   ]
  },
  {
   "cell_type": "code",
   "execution_count": 46,
   "id": "5c2396a3",
   "metadata": {},
   "outputs": [
    {
     "data": {
      "text/plain": [
       "7"
      ]
     },
     "execution_count": 46,
     "metadata": {},
     "output_type": "execute_result"
    }
   ],
   "source": [
    "dicts['sec']"
   ]
  },
  {
   "cell_type": "code",
   "execution_count": 18,
   "id": "770e37fb",
   "metadata": {},
   "outputs": [
    {
     "data": {
      "text/plain": [
       "{1: 'dghdg', 'sec': 7}"
      ]
     },
     "execution_count": 18,
     "metadata": {},
     "output_type": "execute_result"
    }
   ],
   "source": [
    "dicts"
   ]
  },
  {
   "cell_type": "code",
   "execution_count": 20,
   "id": "ec001713",
   "metadata": {},
   "outputs": [
    {
     "data": {
      "text/plain": [
       "{1: 'rus', 'se': 3}"
      ]
     },
     "execution_count": 20,
     "metadata": {},
     "output_type": "execute_result"
    }
   ],
   "source": [
    "dictss=dict([(1,'rus'),('se',3)])\n",
    "dictss"
   ]
  },
  {
   "cell_type": "code",
   "execution_count": 45,
   "id": "5c317ed9",
   "metadata": {},
   "outputs": [
    {
     "data": {
      "text/plain": [
       "'rus'"
      ]
     },
     "execution_count": 45,
     "metadata": {},
     "output_type": "execute_result"
    }
   ],
   "source": [
    "dictss[1]"
   ]
  },
  {
   "cell_type": "code",
   "execution_count": 21,
   "id": "232e6a1f",
   "metadata": {},
   "outputs": [],
   "source": [
    "sete={56567,\"fghsf\"}"
   ]
  },
  {
   "cell_type": "code",
   "execution_count": 83,
   "id": "56cf9ae3",
   "metadata": {},
   "outputs": [
    {
     "data": {
      "text/plain": [
       "({56567, 'fghsf'}, 23)"
      ]
     },
     "execution_count": 83,
     "metadata": {},
     "output_type": "execute_result"
    }
   ],
   "source": [
    "sete,23"
   ]
  },
  {
   "cell_type": "code",
   "execution_count": 22,
   "id": "56ee6ebf",
   "metadata": {},
   "outputs": [
    {
     "data": {
      "text/plain": [
       "{56567, 'fghsf'}"
      ]
     },
     "execution_count": 22,
     "metadata": {},
     "output_type": "execute_result"
    }
   ],
   "source": [
    "sete\n"
   ]
  },
  {
   "cell_type": "code",
   "execution_count": 23,
   "id": "0915e28b",
   "metadata": {},
   "outputs": [],
   "source": [
    "seet=set('example')"
   ]
  },
  {
   "cell_type": "code",
   "execution_count": 24,
   "id": "b73d9206",
   "metadata": {},
   "outputs": [
    {
     "data": {
      "text/plain": [
       "{'a', 'e', 'l', 'm', 'p', 'x'}"
      ]
     },
     "execution_count": 24,
     "metadata": {},
     "output_type": "execute_result"
    }
   ],
   "source": [
    "seet\n"
   ]
  },
  {
   "cell_type": "code",
   "execution_count": 25,
   "id": "be65a58d",
   "metadata": {},
   "outputs": [],
   "source": [
    "re=range(1,5,1)"
   ]
  },
  {
   "cell_type": "code",
   "execution_count": 26,
   "id": "c48af275",
   "metadata": {},
   "outputs": [
    {
     "data": {
      "text/plain": [
       "range"
      ]
     },
     "execution_count": 26,
     "metadata": {},
     "output_type": "execute_result"
    }
   ],
   "source": [
    "range\n"
   ]
  },
  {
   "cell_type": "code",
   "execution_count": 27,
   "id": "5c2a17e9",
   "metadata": {},
   "outputs": [
    {
     "data": {
      "text/plain": [
       "range(1, 5)"
      ]
     },
     "execution_count": 27,
     "metadata": {},
     "output_type": "execute_result"
    }
   ],
   "source": [
    "re"
   ]
  },
  {
   "cell_type": "code",
   "execution_count": 28,
   "id": "1ae6a107",
   "metadata": {},
   "outputs": [
    {
     "name": "stdout",
     "output_type": "stream",
     "text": [
      "range(1, 5)\n"
     ]
    }
   ],
   "source": [
    "print(re)"
   ]
  },
  {
   "cell_type": "code",
   "execution_count": 30,
   "id": "8a69d975",
   "metadata": {},
   "outputs": [
    {
     "name": "stdout",
     "output_type": "stream",
     "text": [
      "1\n",
      "2\n",
      "3\n",
      "4\n"
     ]
    }
   ],
   "source": [
    "for x in re :print(x)"
   ]
  },
  {
   "cell_type": "code",
   "execution_count": 47,
   "id": "5ead5067",
   "metadata": {},
   "outputs": [
    {
     "data": {
      "text/plain": [
       "3"
      ]
     },
     "execution_count": 47,
     "metadata": {},
     "output_type": "execute_result"
    }
   ],
   "source": [
    "re[2]"
   ]
  },
  {
   "cell_type": "code",
   "execution_count": 48,
   "id": "b950ccbf",
   "metadata": {},
   "outputs": [
    {
     "ename": "TypeError",
     "evalue": "'builtin_function_or_method' object is not subscriptable",
     "output_type": "error",
     "traceback": [
      "\u001b[1;31m---------------------------------------------------------------------------\u001b[0m",
      "\u001b[1;31mTypeError\u001b[0m                                 Traceback (most recent call last)",
      "\u001b[1;32m~\\AppData\\Local\\Temp/ipykernel_2512/3677734791.py\u001b[0m in \u001b[0;36m<module>\u001b[1;34m\u001b[0m\n\u001b[1;32m----> 1\u001b[1;33m \u001b[0mre\u001b[0m\u001b[1;33m.\u001b[0m\u001b[0mindex\u001b[0m\u001b[1;33m[\u001b[0m\u001b[1;36m2\u001b[0m\u001b[1;33m]\u001b[0m\u001b[1;33m\u001b[0m\u001b[1;33m\u001b[0m\u001b[0m\n\u001b[0m",
      "\u001b[1;31mTypeError\u001b[0m: 'builtin_function_or_method' object is not subscriptable"
     ]
    }
   ],
   "source": [
    "re.index[2]"
   ]
  },
  {
   "cell_type": "code",
   "execution_count": 49,
   "id": "77b4306c",
   "metadata": {},
   "outputs": [
    {
     "data": {
      "text/plain": [
       "1"
      ]
     },
     "execution_count": 49,
     "metadata": {},
     "output_type": "execute_result"
    }
   ],
   "source": [
    "re.index(2)"
   ]
  },
  {
   "cell_type": "code",
   "execution_count": 50,
   "id": "d7751b94",
   "metadata": {},
   "outputs": [
    {
     "ename": "ValueError",
     "evalue": "66 is not in range",
     "output_type": "error",
     "traceback": [
      "\u001b[1;31m---------------------------------------------------------------------------\u001b[0m",
      "\u001b[1;31mValueError\u001b[0m                                Traceback (most recent call last)",
      "\u001b[1;32m~\\AppData\\Local\\Temp/ipykernel_2512/2880638925.py\u001b[0m in \u001b[0;36m<module>\u001b[1;34m\u001b[0m\n\u001b[1;32m----> 1\u001b[1;33m \u001b[0mre\u001b[0m\u001b[1;33m.\u001b[0m\u001b[0mindex\u001b[0m\u001b[1;33m(\u001b[0m\u001b[1;36m66\u001b[0m\u001b[1;33m)\u001b[0m\u001b[1;33m\u001b[0m\u001b[1;33m\u001b[0m\u001b[0m\n\u001b[0m",
      "\u001b[1;31mValueError\u001b[0m: 66 is not in range"
     ]
    }
   ],
   "source": [
    "re.index(66)"
   ]
  },
  {
   "cell_type": "code",
   "execution_count": 62,
   "id": "6485bf17",
   "metadata": {},
   "outputs": [
    {
     "data": {
      "text/plain": [
       "range(2, 4)"
      ]
     },
     "execution_count": 62,
     "metadata": {},
     "output_type": "execute_result"
    }
   ],
   "source": [
    "re[1:-1]"
   ]
  },
  {
   "cell_type": "code",
   "execution_count": 66,
   "id": "9087d25d",
   "metadata": {},
   "outputs": [
    {
     "name": "stdout",
     "output_type": "stream",
     "text": [
      "range(2, 3)\n"
     ]
    }
   ],
   "source": [
    "print(re[1:2])"
   ]
  },
  {
   "cell_type": "code",
   "execution_count": 70,
   "id": "8ce1c5c2",
   "metadata": {},
   "outputs": [
    {
     "data": {
      "text/plain": [
       "'sddsddsds'"
      ]
     },
     "execution_count": 70,
     "metadata": {},
     "output_type": "execute_result"
    }
   ],
   "source": [
    "str\n"
   ]
  },
  {
   "cell_type": "code",
   "execution_count": 71,
   "id": "f2ddf4a6",
   "metadata": {},
   "outputs": [
    {
     "data": {
      "text/plain": [
       "'sddsddsdseeee'"
      ]
     },
     "execution_count": 71,
     "metadata": {},
     "output_type": "execute_result"
    }
   ],
   "source": [
    "str+'eeee'"
   ]
  },
  {
   "cell_type": "code",
   "execution_count": 72,
   "id": "b07a8ec5",
   "metadata": {},
   "outputs": [
    {
     "data": {
      "text/plain": [
       "'sddsddsds'"
      ]
     },
     "execution_count": 72,
     "metadata": {},
     "output_type": "execute_result"
    }
   ],
   "source": [
    "str"
   ]
  },
  {
   "cell_type": "code",
   "execution_count": 73,
   "id": "dbae9698",
   "metadata": {},
   "outputs": [
    {
     "data": {
      "text/plain": [
       "[1, 'd', 3.9]"
      ]
     },
     "execution_count": 73,
     "metadata": {},
     "output_type": "execute_result"
    }
   ],
   "source": [
    "ls\n"
   ]
  },
  {
   "cell_type": "code",
   "execution_count": 76,
   "id": "0b04bcc2",
   "metadata": {},
   "outputs": [
    {
     "ename": "TypeError",
     "evalue": "can only concatenate list (not \"str\") to list",
     "output_type": "error",
     "traceback": [
      "\u001b[1;31m---------------------------------------------------------------------------\u001b[0m",
      "\u001b[1;31mTypeError\u001b[0m                                 Traceback (most recent call last)",
      "\u001b[1;32m~\\AppData\\Local\\Temp/ipykernel_2512/3509942645.py\u001b[0m in \u001b[0;36m<module>\u001b[1;34m\u001b[0m\n\u001b[1;32m----> 1\u001b[1;33m \u001b[0mls\u001b[0m\u001b[1;33m+\u001b[0m\u001b[1;34m'py'\u001b[0m\u001b[1;33m\u001b[0m\u001b[1;33m\u001b[0m\u001b[0m\n\u001b[0m",
      "\u001b[1;31mTypeError\u001b[0m: can only concatenate list (not \"str\") to list"
     ]
    }
   ],
   "source": [
    "ls+'py'"
   ]
  },
  {
   "cell_type": "code",
   "execution_count": 75,
   "id": "583ce2bf",
   "metadata": {},
   "outputs": [],
   "source": [
    "py=['2','rrr']"
   ]
  },
  {
   "cell_type": "code",
   "execution_count": 77,
   "id": "c72c7d7d",
   "metadata": {},
   "outputs": [
    {
     "ename": "TypeError",
     "evalue": "can only concatenate list (not \"str\") to list",
     "output_type": "error",
     "traceback": [
      "\u001b[1;31m---------------------------------------------------------------------------\u001b[0m",
      "\u001b[1;31mTypeError\u001b[0m                                 Traceback (most recent call last)",
      "\u001b[1;32m~\\AppData\\Local\\Temp/ipykernel_2512/3509942645.py\u001b[0m in \u001b[0;36m<module>\u001b[1;34m\u001b[0m\n\u001b[1;32m----> 1\u001b[1;33m \u001b[0mls\u001b[0m\u001b[1;33m+\u001b[0m\u001b[1;34m'py'\u001b[0m\u001b[1;33m\u001b[0m\u001b[1;33m\u001b[0m\u001b[0m\n\u001b[0m",
      "\u001b[1;31mTypeError\u001b[0m: can only concatenate list (not \"str\") to list"
     ]
    }
   ],
   "source": [
    "ls+'py'"
   ]
  },
  {
   "cell_type": "code",
   "execution_count": 79,
   "id": "dc630a52",
   "metadata": {},
   "outputs": [
    {
     "data": {
      "text/plain": [
       "[1, 'd', 3.9, 'jk']"
      ]
     },
     "execution_count": 79,
     "metadata": {},
     "output_type": "execute_result"
    }
   ],
   "source": [
    "ls+['jk']\n"
   ]
  },
  {
   "cell_type": "code",
   "execution_count": 80,
   "id": "0f360b4f",
   "metadata": {},
   "outputs": [
    {
     "data": {
      "text/plain": [
       "[1, 'd', 3.9]"
      ]
     },
     "execution_count": 80,
     "metadata": {},
     "output_type": "execute_result"
    }
   ],
   "source": [
    "ls"
   ]
  },
  {
   "cell_type": "code",
   "execution_count": 84,
   "id": "cd504e2b",
   "metadata": {},
   "outputs": [
    {
     "data": {
      "text/plain": [
       "'sddsddsdssddsddsdssddsddsdssddsddsdssddsddsdssddsddsdssddsddsdssddsddsdssddsddsdssddsddsds'"
      ]
     },
     "execution_count": 84,
     "metadata": {},
     "output_type": "execute_result"
    }
   ],
   "source": [
    "str*10"
   ]
  },
  {
   "cell_type": "code",
   "execution_count": 85,
   "id": "b2b9b6d7",
   "metadata": {},
   "outputs": [
    {
     "data": {
      "text/plain": [
       "'sddsddsds'"
      ]
     },
     "execution_count": 85,
     "metadata": {},
     "output_type": "execute_result"
    }
   ],
   "source": [
    "str"
   ]
  },
  {
   "cell_type": "code",
   "execution_count": 86,
   "id": "c9a551bc",
   "metadata": {},
   "outputs": [
    {
     "data": {
      "text/plain": [
       "[1, 'd', 3.9, 1, 'd', 3.9]"
      ]
     },
     "execution_count": 86,
     "metadata": {},
     "output_type": "execute_result"
    }
   ],
   "source": [
    "ls*2"
   ]
  },
  {
   "cell_type": "code",
   "execution_count": 89,
   "id": "855ecc5c",
   "metadata": {},
   "outputs": [
    {
     "data": {
      "text/plain": [
       "[1, 'dd', 15.6]"
      ]
     },
     "execution_count": 89,
     "metadata": {},
     "output_type": "execute_result"
    }
   ],
   "source": [
    "ls[1]*=2\n",
    "ls"
   ]
  },
  {
   "cell_type": "code",
   "execution_count": 92,
   "id": "5010fb65",
   "metadata": {},
   "outputs": [
    {
     "data": {
      "text/plain": [
       "('4f', '4f')"
      ]
     },
     "execution_count": 92,
     "metadata": {},
     "output_type": "execute_result"
    }
   ],
   "source": [
    "tu[2:3]\n",
    "tu[2:3]*2"
   ]
  },
  {
   "cell_type": "code",
   "execution_count": 93,
   "id": "c27832a2",
   "metadata": {},
   "outputs": [
    {
     "data": {
      "text/plain": [
       "array('i', [1, 2, 2, 4, 1, 2, 2, 4])"
      ]
     },
     "execution_count": 93,
     "metadata": {},
     "output_type": "execute_result"
    }
   ],
   "source": [
    "arr*2"
   ]
  },
  {
   "cell_type": "code",
   "execution_count": 94,
   "id": "e88b3809",
   "metadata": {},
   "outputs": [
    {
     "ename": "TypeError",
     "evalue": "unsupported operand type(s) for *: 'range' and 'int'",
     "output_type": "error",
     "traceback": [
      "\u001b[1;31m---------------------------------------------------------------------------\u001b[0m",
      "\u001b[1;31mTypeError\u001b[0m                                 Traceback (most recent call last)",
      "\u001b[1;32m~\\AppData\\Local\\Temp/ipykernel_2512/4116081437.py\u001b[0m in \u001b[0;36m<module>\u001b[1;34m\u001b[0m\n\u001b[1;32m----> 1\u001b[1;33m \u001b[0mre\u001b[0m\u001b[1;33m*\u001b[0m\u001b[1;36m2\u001b[0m\u001b[1;33m\u001b[0m\u001b[1;33m\u001b[0m\u001b[0m\n\u001b[0m",
      "\u001b[1;31mTypeError\u001b[0m: unsupported operand type(s) for *: 'range' and 'int'"
     ]
    }
   ],
   "source": [
    "re*2"
   ]
  },
  {
   "cell_type": "code",
   "execution_count": 95,
   "id": "cbe8ef0c",
   "metadata": {},
   "outputs": [
    {
     "data": {
      "text/plain": [
       "'sddsddsds'"
      ]
     },
     "execution_count": 95,
     "metadata": {},
     "output_type": "execute_result"
    }
   ],
   "source": [
    "str"
   ]
  },
  {
   "cell_type": "code",
   "execution_count": 96,
   "id": "0593ccc0",
   "metadata": {},
   "outputs": [
    {
     "name": "stdout",
     "output_type": "stream",
     "text": [
      "sddsddsds\n"
     ]
    }
   ],
   "source": [
    "print(str)"
   ]
  },
  {
   "cell_type": "code",
   "execution_count": 101,
   "id": "4fb84816",
   "metadata": {},
   "outputs": [
    {
     "name": "stdout",
     "output_type": "stream",
     "text": [
      "SDDSDDSDS YYUY JJK\n"
     ]
    }
   ],
   "source": [
    "print(str.swapcase())"
   ]
  },
  {
   "cell_type": "code",
   "execution_count": 109,
   "id": "8328efd2",
   "metadata": {},
   "outputs": [
    {
     "data": {
      "text/plain": [
       "'sddsddsds ds jjk'"
      ]
     },
     "execution_count": 109,
     "metadata": {},
     "output_type": "execute_result"
    }
   ],
   "source": [
    "str.replace('yyuy','ds')"
   ]
  },
  {
   "cell_type": "code",
   "execution_count": 111,
   "id": "4595e20e",
   "metadata": {},
   "outputs": [
    {
     "data": {
      "text/plain": [
       "False"
      ]
     },
     "execution_count": 111,
     "metadata": {},
     "output_type": "execute_result"
    }
   ],
   "source": [
    "str.isalnum()"
   ]
  },
  {
   "cell_type": "code",
   "execution_count": 112,
   "id": "b9f277f6",
   "metadata": {},
   "outputs": [],
   "source": [
    "name1='git'\n",
    "name2='hun'\n",
    "name3='hjhjhjh'"
   ]
  },
  {
   "cell_type": "code",
   "execution_count": 114,
   "id": "3bc76abb",
   "metadata": {},
   "outputs": [
    {
     "data": {
      "text/plain": [
       "'githun.hjhjhjh'"
      ]
     },
     "execution_count": 114,
     "metadata": {},
     "output_type": "execute_result"
    }
   ],
   "source": [
    " name='{}{}.{}'.format(name1,name2,name3)\n",
    "name"
   ]
  },
  {
   "cell_type": "code",
   "execution_count": 119,
   "id": "78b251e4",
   "metadata": {},
   "outputs": [
    {
     "name": "stdout",
     "output_type": "stream",
     "text": [
      "['__add__', '__class__', '__contains__', '__delattr__', '__dir__', '__doc__', '__eq__', '__format__', '__ge__', '__getattribute__', '__getitem__', '__getnewargs__', '__gt__', '__hash__', '__init__', '__init_subclass__', '__iter__', '__le__', '__len__', '__lt__', '__mod__', '__mul__', '__ne__', '__new__', '__reduce__', '__reduce_ex__', '__repr__', '__rmod__', '__rmul__', '__setattr__', '__sizeof__', '__str__', '__subclasshook__', 'capitalize', 'casefold', 'center', 'count', 'encode', 'endswith', 'expandtabs', 'find', 'format', 'format_map', 'index', 'isalnum', 'isalpha', 'isascii', 'isdecimal', 'isdigit', 'isidentifier', 'islower', 'isnumeric', 'isprintable', 'isspace', 'istitle', 'isupper', 'join', 'ljust', 'lower', 'lstrip', 'maketrans', 'partition', 'replace', 'rfind', 'rindex', 'rjust', 'rpartition', 'rsplit', 'rstrip', 'split', 'splitlines', 'startswith', 'strip', 'swapcase', 'title', 'translate', 'upper', 'zfill']\n"
     ]
    }
   ],
   "source": [
    "print (dir(str))"
   ]
  },
  {
   "cell_type": "code",
   "execution_count": 120,
   "id": "573709d9",
   "metadata": {},
   "outputs": [
    {
     "name": "stdout",
     "output_type": "stream",
     "text": [
      "[1, 'dd', 15.6]\n"
     ]
    }
   ],
   "source": [
    "print(ls)"
   ]
  },
  {
   "cell_type": "code",
   "execution_count": 121,
   "id": "9482803f",
   "metadata": {},
   "outputs": [],
   "source": [
    "ls.reverse()"
   ]
  },
  {
   "cell_type": "code",
   "execution_count": 122,
   "id": "770d34b0",
   "metadata": {},
   "outputs": [
    {
     "name": "stdout",
     "output_type": "stream",
     "text": [
      "[15.6, 'dd', 1]\n"
     ]
    }
   ],
   "source": [
    "print(ls)"
   ]
  },
  {
   "cell_type": "code",
   "execution_count": 128,
   "id": "807e0a7f",
   "metadata": {},
   "outputs": [
    {
     "name": "stdout",
     "output_type": "stream",
     "text": [
      "list 3 ,\\ array 4\n"
     ]
    }
   ],
   "source": [
    "print(\"list {} ,\\ array {}\".format(len(ls),len(arr)))"
   ]
  },
  {
   "cell_type": "code",
   "execution_count": 129,
   "id": "ebb945b8",
   "metadata": {},
   "outputs": [
    {
     "data": {
      "text/plain": [
       "<function list.clear()>"
      ]
     },
     "execution_count": 129,
     "metadata": {},
     "output_type": "execute_result"
    }
   ],
   "source": [
    "ls.clear\n"
   ]
  },
  {
   "cell_type": "code",
   "execution_count": 130,
   "id": "136714c3",
   "metadata": {},
   "outputs": [],
   "source": [
    "ls.clear()"
   ]
  },
  {
   "cell_type": "code",
   "execution_count": 131,
   "id": "c90ff126",
   "metadata": {},
   "outputs": [
    {
     "data": {
      "text/plain": [
       "[]"
      ]
     },
     "execution_count": 131,
     "metadata": {},
     "output_type": "execute_result"
    }
   ],
   "source": [
    "ls"
   ]
  },
  {
   "cell_type": "code",
   "execution_count": 132,
   "id": "40cf5aa9",
   "metadata": {},
   "outputs": [],
   "source": [
    "ls=[1,2,3,4]"
   ]
  },
  {
   "cell_type": "code",
   "execution_count": 134,
   "id": "40db9cd8",
   "metadata": {},
   "outputs": [
    {
     "name": "stdout",
     "output_type": "stream",
     "text": [
      "{'fghsf', 222, 56567}\n",
      "{'fghsf', 2222, 222, 56567}\n"
     ]
    }
   ],
   "source": [
    "print(sete)\n",
    "sete.add(2222)\n",
    "print(sete)"
   ]
  },
  {
   "cell_type": "code",
   "execution_count": 135,
   "id": "5cbbbfbd",
   "metadata": {},
   "outputs": [],
   "source": [
    "ls.append([22,1])"
   ]
  },
  {
   "cell_type": "code",
   "execution_count": 136,
   "id": "ba27e16d",
   "metadata": {},
   "outputs": [
    {
     "data": {
      "text/plain": [
       "[1, 2, 3, 4, [22, 1]]"
      ]
     },
     "execution_count": 136,
     "metadata": {},
     "output_type": "execute_result"
    }
   ],
   "source": [
    "ls"
   ]
  },
  {
   "cell_type": "code",
   "execution_count": 137,
   "id": "edad7cac",
   "metadata": {},
   "outputs": [
    {
     "data": {
      "text/plain": [
       "array('i', [1, 2, 2, 4, 2222])"
      ]
     },
     "execution_count": 137,
     "metadata": {},
     "output_type": "execute_result"
    }
   ],
   "source": [
    "arr.append(2222)\n",
    "arr"
   ]
  },
  {
   "cell_type": "code",
   "execution_count": 139,
   "id": "f240dd43",
   "metadata": {},
   "outputs": [],
   "source": [
    "sete.update([2,222222])"
   ]
  },
  {
   "cell_type": "code",
   "execution_count": 140,
   "id": "5625bb57",
   "metadata": {},
   "outputs": [
    {
     "name": "stdout",
     "output_type": "stream",
     "text": [
      "{1, 2, 3, 4, 'fghsf', 2222, 222222, 56567, 222}\n"
     ]
    }
   ],
   "source": [
    "print(sete)"
   ]
  },
  {
   "cell_type": "code",
   "execution_count": 141,
   "id": "9f67d694",
   "metadata": {},
   "outputs": [
    {
     "name": "stdout",
     "output_type": "stream",
     "text": [
      "{1: 'rus', 'se': 3, 32: 'jfhjdhjkf'}\n"
     ]
    }
   ],
   "source": [
    "dictss[32]='jfhjdhjkf'\n",
    "print(dictss)"
   ]
  },
  {
   "cell_type": "code",
   "execution_count": 153,
   "id": "80f46636",
   "metadata": {},
   "outputs": [
    {
     "name": "stdout",
     "output_type": "stream",
     "text": [
      "{1: 'rus', 'se': 3, 32: 'jfhjdhjkf', 'five': 5, 'f2': 5, 'eightfffff': 5}\n"
     ]
    }
   ],
   "source": [
    "dictss.update(eightfffff = 5)\n",
    "print(dictss)"
   ]
  },
  {
   "cell_type": "code",
   "execution_count": 154,
   "id": "4398b123",
   "metadata": {},
   "outputs": [
    {
     "data": {
      "text/plain": [
       "6"
      ]
     },
     "execution_count": 154,
     "metadata": {},
     "output_type": "execute_result"
    }
   ],
   "source": [
    "len(dictss)"
   ]
  },
  {
   "cell_type": "code",
   "execution_count": 155,
   "id": "fd222eef",
   "metadata": {},
   "outputs": [
    {
     "data": {
      "text/plain": [
       "[1, 'se', 32, 'five', 'f2', 'eightfffff']"
      ]
     },
     "execution_count": 155,
     "metadata": {},
     "output_type": "execute_result"
    }
   ],
   "source": [
    "list(dictss)"
   ]
  },
  {
   "cell_type": "code",
   "execution_count": 163,
   "id": "772cacf6",
   "metadata": {},
   "outputs": [
    {
     "data": {
      "text/plain": [
       "5"
      ]
     },
     "execution_count": 163,
     "metadata": {},
     "output_type": "execute_result"
    }
   ],
   "source": [
    "dictss.get('five')"
   ]
  },
  {
   "cell_type": "code",
   "execution_count": 165,
   "id": "d5eb408f",
   "metadata": {},
   "outputs": [
    {
     "data": {
      "text/plain": [
       "dict_keys([1, 'se', 32, 'five', 'f2', 'eightfffff'])"
      ]
     },
     "execution_count": 165,
     "metadata": {},
     "output_type": "execute_result"
    }
   ],
   "source": [
    "dictss.keys()"
   ]
  },
  {
   "cell_type": "code",
   "execution_count": 167,
   "id": "64bbd407",
   "metadata": {},
   "outputs": [
    {
     "data": {
      "text/plain": [
       "dict_items([(1, 'rus'), ('se', 3), (32, 'jfhjdhjkf'), ('five', 5), ('f2', 5), ('eightfffff', 5)])"
      ]
     },
     "execution_count": 167,
     "metadata": {},
     "output_type": "execute_result"
    }
   ],
   "source": [
    "dictss.items()"
   ]
  },
  {
   "cell_type": "code",
   "execution_count": 168,
   "id": "3503870b",
   "metadata": {},
   "outputs": [],
   "source": [
    "arr.insert(0,999)\n",
    "ls.insert(0,999)"
   ]
  },
  {
   "cell_type": "code",
   "execution_count": 169,
   "id": "cc717342",
   "metadata": {},
   "outputs": [
    {
     "name": "stdout",
     "output_type": "stream",
     "text": [
      "array('i', [999, 1, 2, 2, 4, 2222])\n",
      "[999, 1, 2, 3, 4, [22, 1]]\n"
     ]
    }
   ],
   "source": [
    "print(arr)\n",
    "print(ls)"
   ]
  },
  {
   "cell_type": "code",
   "execution_count": 172,
   "id": "43df58ae",
   "metadata": {},
   "outputs": [
    {
     "name": "stdout",
     "output_type": "stream",
     "text": [
      "array('i', [999, 1, 2, 2])\n"
     ]
    },
    {
     "data": {
      "text/plain": [
       "2"
      ]
     },
     "execution_count": 172,
     "metadata": {},
     "output_type": "execute_result"
    }
   ],
   "source": [
    "print(arr)\n",
    "arr.pop()\n"
   ]
  },
  {
   "cell_type": "code",
   "execution_count": 173,
   "id": "abb88ba7",
   "metadata": {},
   "outputs": [
    {
     "data": {
      "text/plain": [
       "[22, 1]"
      ]
     },
     "execution_count": 173,
     "metadata": {},
     "output_type": "execute_result"
    }
   ],
   "source": [
    "ls.pop()"
   ]
  },
  {
   "cell_type": "code",
   "execution_count": 174,
   "id": "6110e88f",
   "metadata": {},
   "outputs": [],
   "source": [
    "ls.append(323)"
   ]
  },
  {
   "cell_type": "code",
   "execution_count": 175,
   "id": "0357587c",
   "metadata": {},
   "outputs": [
    {
     "data": {
      "text/plain": [
       "999"
      ]
     },
     "execution_count": 175,
     "metadata": {},
     "output_type": "execute_result"
    }
   ],
   "source": [
    "ls.pop(0)"
   ]
  },
  {
   "cell_type": "code",
   "execution_count": 176,
   "id": "6bee6483",
   "metadata": {},
   "outputs": [
    {
     "data": {
      "text/plain": [
       "[1, 2, 3, 4, 323]"
      ]
     },
     "execution_count": 176,
     "metadata": {},
     "output_type": "execute_result"
    }
   ],
   "source": [
    "ls"
   ]
  },
  {
   "cell_type": "code",
   "execution_count": 177,
   "id": "fb797e84",
   "metadata": {},
   "outputs": [
    {
     "name": "stdout",
     "output_type": "stream",
     "text": [
      "{1: 'rus', 'se': 3, 32: 'jfhjdhjkf', 'five': 5, 'f2': 5, 'eightfffff': 5}\n"
     ]
    },
    {
     "data": {
      "text/plain": [
       "5"
      ]
     },
     "execution_count": 177,
     "metadata": {},
     "output_type": "execute_result"
    }
   ],
   "source": [
    "print(dictss)\n",
    "dictss.pop('five')"
   ]
  },
  {
   "cell_type": "code",
   "execution_count": 189,
   "id": "abfb4876",
   "metadata": {},
   "outputs": [
    {
     "data": {
      "text/plain": [
       "4"
      ]
     },
     "execution_count": 189,
     "metadata": {},
     "output_type": "execute_result"
    }
   ],
   "source": [
    "sete.pop()"
   ]
  },
  {
   "cell_type": "code",
   "execution_count": 186,
   "id": "f5c74504",
   "metadata": {
    "scrolled": true
   },
   "outputs": [
    {
     "ename": "TypeError",
     "evalue": "'set' object is not callable",
     "output_type": "error",
     "traceback": [
      "\u001b[1;31m---------------------------------------------------------------------------\u001b[0m",
      "\u001b[1;31mTypeError\u001b[0m                                 Traceback (most recent call last)",
      "\u001b[1;32m~\\AppData\\Local\\Temp/ipykernel_2512/1399701805.py\u001b[0m in \u001b[0;36m<module>\u001b[1;34m\u001b[0m\n\u001b[1;32m----> 1\u001b[1;33m \u001b[0msete\u001b[0m\u001b[1;33m(\u001b[0m\u001b[1;36m2\u001b[0m\u001b[1;33m)\u001b[0m\u001b[1;33m\u001b[0m\u001b[1;33m\u001b[0m\u001b[0m\n\u001b[0m",
      "\u001b[1;31mTypeError\u001b[0m: 'set' object is not callable"
     ]
    }
   ],
   "source": [
    "sete(2)"
   ]
  },
  {
   "cell_type": "code",
   "execution_count": 190,
   "id": "f5a6f4e7",
   "metadata": {
    "scrolled": true
   },
   "outputs": [
    {
     "ename": "ValueError",
     "evalue": "array.remove(x): x not in array",
     "output_type": "error",
     "traceback": [
      "\u001b[1;31m---------------------------------------------------------------------------\u001b[0m",
      "\u001b[1;31mValueError\u001b[0m                                Traceback (most recent call last)",
      "\u001b[1;32m~\\AppData\\Local\\Temp/ipykernel_2512/2299465526.py\u001b[0m in \u001b[0;36m<module>\u001b[1;34m\u001b[0m\n\u001b[1;32m----> 1\u001b[1;33m \u001b[0marr\u001b[0m\u001b[1;33m.\u001b[0m\u001b[0mremove\u001b[0m\u001b[1;33m(\u001b[0m\u001b[1;36m2\u001b[0m\u001b[1;33m)\u001b[0m\u001b[1;33m\u001b[0m\u001b[1;33m\u001b[0m\u001b[0m\n\u001b[0m\u001b[0;32m      2\u001b[0m \u001b[0mprint\u001b[0m\u001b[1;33m(\u001b[0m\u001b[0marr\u001b[0m\u001b[1;33m)\u001b[0m\u001b[1;33m\u001b[0m\u001b[1;33m\u001b[0m\u001b[0m\n",
      "\u001b[1;31mValueError\u001b[0m: array.remove(x): x not in array"
     ]
    }
   ],
   "source": [
    "arr.remove(2)\n",
    "print(arr)"
   ]
  },
  {
   "cell_type": "code",
   "execution_count": 191,
   "id": "21f17a04",
   "metadata": {},
   "outputs": [],
   "source": [
    "ls.remove(2)"
   ]
  },
  {
   "cell_type": "code",
   "execution_count": 192,
   "id": "24d225fd",
   "metadata": {},
   "outputs": [
    {
     "name": "stdout",
     "output_type": "stream",
     "text": [
      "[1, 3, 4, 323]\n"
     ]
    }
   ],
   "source": [
    "print(ls)"
   ]
  },
  {
   "cell_type": "code",
   "execution_count": 194,
   "id": "6ff9c3b1",
   "metadata": {},
   "outputs": [],
   "source": [
    "sete.discard(8989)"
   ]
  },
  {
   "cell_type": "code",
   "execution_count": 195,
   "id": "8274b3fa",
   "metadata": {},
   "outputs": [],
   "source": [
    "del ls"
   ]
  },
  {
   "cell_type": "code",
   "execution_count": 197,
   "id": "096659f4",
   "metadata": {},
   "outputs": [
    {
     "ename": "NameError",
     "evalue": "name 'ls' is not defined",
     "output_type": "error",
     "traceback": [
      "\u001b[1;31m---------------------------------------------------------------------------\u001b[0m",
      "\u001b[1;31mNameError\u001b[0m                                 Traceback (most recent call last)",
      "\u001b[1;32m~\\AppData\\Local\\Temp/ipykernel_2512/3044969327.py\u001b[0m in \u001b[0;36m<module>\u001b[1;34m\u001b[0m\n\u001b[1;32m----> 1\u001b[1;33m \u001b[0mprint\u001b[0m\u001b[1;33m(\u001b[0m\u001b[0mls\u001b[0m\u001b[1;33m)\u001b[0m\u001b[1;33m\u001b[0m\u001b[1;33m\u001b[0m\u001b[0m\n\u001b[0m",
      "\u001b[1;31mNameError\u001b[0m: name 'ls' is not defined"
     ]
    }
   ],
   "source": [
    "print(ls)"
   ]
  },
  {
   "cell_type": "code",
   "execution_count": 199,
   "id": "4263dbb3",
   "metadata": {},
   "outputs": [],
   "source": [
    "ls=[1,2,2,2,3,3,4]"
   ]
  },
  {
   "cell_type": "code",
   "execution_count": 200,
   "id": "23fd5df4",
   "metadata": {},
   "outputs": [],
   "source": [
    "del ls[2]"
   ]
  },
  {
   "cell_type": "code",
   "execution_count": 201,
   "id": "d036fd4c",
   "metadata": {},
   "outputs": [
    {
     "name": "stdout",
     "output_type": "stream",
     "text": [
      "[1, 2, 2, 3, 3, 4]\n"
     ]
    }
   ],
   "source": [
    "print(ls)"
   ]
  },
  {
   "cell_type": "code",
   "execution_count": 202,
   "id": "6edcaab9",
   "metadata": {},
   "outputs": [],
   "source": [
    "arr.extend((9898,10009))"
   ]
  },
  {
   "cell_type": "code",
   "execution_count": 203,
   "id": "a3bd8751",
   "metadata": {},
   "outputs": [
    {
     "data": {
      "text/plain": [
       "array('i', [999, 1, 9898, 10009])"
      ]
     },
     "execution_count": 203,
     "metadata": {},
     "output_type": "execute_result"
    }
   ],
   "source": [
    "arr\n"
   ]
  },
  {
   "cell_type": "code",
   "execution_count": 204,
   "id": "c4a2964d",
   "metadata": {},
   "outputs": [],
   "source": [
    "arr.extend([2,22])"
   ]
  },
  {
   "cell_type": "code",
   "execution_count": 205,
   "id": "ba9ea3aa",
   "metadata": {},
   "outputs": [
    {
     "data": {
      "text/plain": [
       "array('i', [999, 1, 9898, 10009, 2, 22])"
      ]
     },
     "execution_count": 205,
     "metadata": {},
     "output_type": "execute_result"
    }
   ],
   "source": [
    "arr"
   ]
  },
  {
   "cell_type": "code",
   "execution_count": 206,
   "id": "88cb5610",
   "metadata": {},
   "outputs": [
    {
     "ename": "TypeError",
     "evalue": "an integer is required (got type str)",
     "output_type": "error",
     "traceback": [
      "\u001b[1;31m---------------------------------------------------------------------------\u001b[0m",
      "\u001b[1;31mTypeError\u001b[0m                                 Traceback (most recent call last)",
      "\u001b[1;32m~\\AppData\\Local\\Temp/ipykernel_2512/842232871.py\u001b[0m in \u001b[0;36m<module>\u001b[1;34m\u001b[0m\n\u001b[1;32m----> 1\u001b[1;33m \u001b[0marr\u001b[0m\u001b[1;33m.\u001b[0m\u001b[0mextend\u001b[0m\u001b[1;33m(\u001b[0m\u001b[1;33m[\u001b[0m\u001b[1;34m'sam'\u001b[0m\u001b[1;33m]\u001b[0m\u001b[1;33m)\u001b[0m\u001b[1;33m\u001b[0m\u001b[1;33m\u001b[0m\u001b[0m\n\u001b[0m",
      "\u001b[1;31mTypeError\u001b[0m: an integer is required (got type str)"
     ]
    }
   ],
   "source": [
    "arr.extend(['sam'])"
   ]
  },
  {
   "cell_type": "code",
   "execution_count": 207,
   "id": "f25fd2c7",
   "metadata": {},
   "outputs": [
    {
     "name": "stdout",
     "output_type": "stream",
     "text": [
      "<class 'list'>\n"
     ]
    }
   ],
   "source": [
    "print(list)"
   ]
  },
  {
   "cell_type": "code",
   "execution_count": 208,
   "id": "9beb7a21",
   "metadata": {},
   "outputs": [
    {
     "name": "stdout",
     "output_type": "stream",
     "text": [
      "[1, 2, 2, 3, 3, 4]\n"
     ]
    }
   ],
   "source": [
    "print(ls)"
   ]
  },
  {
   "cell_type": "code",
   "execution_count": 209,
   "id": "53a299ac",
   "metadata": {},
   "outputs": [],
   "source": [
    "arr.fromlist(ls)"
   ]
  },
  {
   "cell_type": "code",
   "execution_count": 210,
   "id": "a282a971",
   "metadata": {},
   "outputs": [
    {
     "name": "stdout",
     "output_type": "stream",
     "text": [
      "[1, 2, 2, 3, 3, 4]\n"
     ]
    }
   ],
   "source": [
    "print(ls)"
   ]
  },
  {
   "cell_type": "code",
   "execution_count": 211,
   "id": "bc165712",
   "metadata": {},
   "outputs": [
    {
     "data": {
      "text/plain": [
       "array('i', [999, 1, 9898, 10009, 2, 22, 1, 2, 2, 3, 3, 4])"
      ]
     },
     "execution_count": 211,
     "metadata": {},
     "output_type": "execute_result"
    }
   ],
   "source": [
    "arr"
   ]
  },
  {
   "cell_type": "code",
   "execution_count": 212,
   "id": "934bbb36",
   "metadata": {},
   "outputs": [
    {
     "data": {
      "text/plain": [
       "[999, 1, 9898, 10009, 2, 22, 1, 2, 2, 3, 3, 4]"
      ]
     },
     "execution_count": 212,
     "metadata": {},
     "output_type": "execute_result"
    }
   ],
   "source": [
    "arr.tolist()"
   ]
  },
  {
   "cell_type": "code",
   "execution_count": 213,
   "id": "a2a7ad24",
   "metadata": {},
   "outputs": [
    {
     "data": {
      "text/plain": [
       "array('i', [999, 1, 9898, 10009, 2, 22, 1, 2, 2, 3, 3, 4])"
      ]
     },
     "execution_count": 213,
     "metadata": {},
     "output_type": "execute_result"
    }
   ],
   "source": [
    "arr"
   ]
  },
  {
   "cell_type": "code",
   "execution_count": 214,
   "id": "f72f6e5a",
   "metadata": {},
   "outputs": [
    {
     "name": "stdout",
     "output_type": "stream",
     "text": [
      "array('i', [999, 1, 9898, 10009, 2, 22, 1, 2, 2, 3, 3, 4])\n"
     ]
    }
   ],
   "source": [
    "print(arr)"
   ]
  },
  {
   "cell_type": "code",
   "execution_count": 215,
   "id": "a187a650",
   "metadata": {},
   "outputs": [
    {
     "data": {
      "text/plain": [
       "{222, 2222, 222222, 56567, 'fghsf'}"
      ]
     },
     "execution_count": 215,
     "metadata": {},
     "output_type": "execute_result"
    }
   ],
   "source": [
    "sete"
   ]
  },
  {
   "cell_type": "code",
   "execution_count": 219,
   "id": "5a0d416f",
   "metadata": {},
   "outputs": [],
   "source": [
    "b={99,990,222}"
   ]
  },
  {
   "cell_type": "code",
   "execution_count": 217,
   "id": "a40ea5ba",
   "metadata": {},
   "outputs": [
    {
     "data": {
      "text/plain": [
       "{222, 2222, 222222, 56567, 99, 990, 'fghsf'}"
      ]
     },
     "execution_count": 217,
     "metadata": {},
     "output_type": "execute_result"
    }
   ],
   "source": [
    "sete.union(b)"
   ]
  },
  {
   "cell_type": "code",
   "execution_count": 220,
   "id": "cfc3fae5",
   "metadata": {},
   "outputs": [
    {
     "data": {
      "text/plain": [
       "{222}"
      ]
     },
     "execution_count": 220,
     "metadata": {},
     "output_type": "execute_result"
    }
   ],
   "source": [
    "sete.intersection(b)"
   ]
  },
  {
   "cell_type": "code",
   "execution_count": 221,
   "id": "8f19356d",
   "metadata": {},
   "outputs": [
    {
     "name": "stdout",
     "output_type": "stream",
     "text": [
      "{222}\n"
     ]
    }
   ],
   "source": [
    "print(sete&b)"
   ]
  },
  {
   "cell_type": "code",
   "execution_count": 222,
   "id": "058fb609",
   "metadata": {},
   "outputs": [
    {
     "name": "stdout",
     "output_type": "stream",
     "text": [
      "{99, 990, 222222, 'fghsf', 56567, 222, 2222}\n"
     ]
    }
   ],
   "source": [
    "print(sete|b)"
   ]
  },
  {
   "cell_type": "code",
   "execution_count": 4,
   "id": "465e3d5a",
   "metadata": {},
   "outputs": [],
   "source": [
    "import numpy as np\n"
   ]
  },
  {
   "cell_type": "code",
   "execution_count": 3,
   "id": "3ec403f0",
   "metadata": {},
   "outputs": [],
   "source": [
    "ls=[1,2,3,4,5]"
   ]
  },
  {
   "cell_type": "code",
   "execution_count": 8,
   "id": "4479697d",
   "metadata": {},
   "outputs": [],
   "source": [
    "ar=np.array(ls)"
   ]
  },
  {
   "cell_type": "code",
   "execution_count": 226,
   "id": "a3515344",
   "metadata": {},
   "outputs": [
    {
     "ename": "NameError",
     "evalue": "name 'sr' is not defined",
     "output_type": "error",
     "traceback": [
      "\u001b[1;31m---------------------------------------------------------------------------\u001b[0m",
      "\u001b[1;31mNameError\u001b[0m                                 Traceback (most recent call last)",
      "\u001b[1;32m~\\AppData\\Local\\Temp/ipykernel_2512/3806080706.py\u001b[0m in \u001b[0;36m<module>\u001b[1;34m\u001b[0m\n\u001b[1;32m----> 1\u001b[1;33m \u001b[0msr\u001b[0m\u001b[1;33m\u001b[0m\u001b[1;33m\u001b[0m\u001b[0m\n\u001b[0m",
      "\u001b[1;31mNameError\u001b[0m: name 'sr' is not defined"
     ]
    }
   ],
   "source": [
    "sr"
   ]
  },
  {
   "cell_type": "code",
   "execution_count": 227,
   "id": "a260a987",
   "metadata": {},
   "outputs": [
    {
     "data": {
      "text/plain": [
       "array([1, 2, 2, 3, 3, 4])"
      ]
     },
     "execution_count": 227,
     "metadata": {},
     "output_type": "execute_result"
    }
   ],
   "source": [
    "ar"
   ]
  },
  {
   "cell_type": "code",
   "execution_count": 9,
   "id": "2847a1e4",
   "metadata": {},
   "outputs": [
    {
     "name": "stdout",
     "output_type": "stream",
     "text": [
      "[1 2 3 4 5]\n"
     ]
    }
   ],
   "source": [
    "print(ar)"
   ]
  },
  {
   "cell_type": "code",
   "execution_count": 5,
   "id": "82c1e578",
   "metadata": {},
   "outputs": [],
   "source": [
    "ar1=np.array(ls,dtype= str )"
   ]
  },
  {
   "cell_type": "code",
   "execution_count": 10,
   "id": "707b3648",
   "metadata": {},
   "outputs": [
    {
     "name": "stdout",
     "output_type": "stream",
     "text": [
      "['1' '2' '3' '4' '5']\n"
     ]
    }
   ],
   "source": [
    "print(ar1)"
   ]
  },
  {
   "cell_type": "code",
   "execution_count": 11,
   "id": "7d424790",
   "metadata": {},
   "outputs": [
    {
     "ename": "AttributeError",
     "evalue": "'numpy.ndarray' object has no attribute 'type'",
     "output_type": "error",
     "traceback": [
      "\u001b[1;31m---------------------------------------------------------------------------\u001b[0m",
      "\u001b[1;31mAttributeError\u001b[0m                            Traceback (most recent call last)",
      "\u001b[1;32m~\\AppData\\Local\\Temp/ipykernel_12244/2897121848.py\u001b[0m in \u001b[0;36m<module>\u001b[1;34m\u001b[0m\n\u001b[1;32m----> 1\u001b[1;33m \u001b[0mar\u001b[0m\u001b[1;33m.\u001b[0m\u001b[0mtype\u001b[0m\u001b[1;33m(\u001b[0m\u001b[1;33m)\u001b[0m\u001b[1;33m\u001b[0m\u001b[1;33m\u001b[0m\u001b[0m\n\u001b[0m",
      "\u001b[1;31mAttributeError\u001b[0m: 'numpy.ndarray' object has no attribute 'type'"
     ]
    }
   ],
   "source": [
    "ar.type()"
   ]
  },
  {
   "cell_type": "code",
   "execution_count": 12,
   "id": "fba6ccae",
   "metadata": {},
   "outputs": [
    {
     "data": {
      "text/plain": [
       "numpy.ndarray"
      ]
     },
     "execution_count": 12,
     "metadata": {},
     "output_type": "execute_result"
    }
   ],
   "source": [
    "type(ar1)"
   ]
  },
  {
   "cell_type": "code",
   "execution_count": 13,
   "id": "0f02833e",
   "metadata": {},
   "outputs": [
    {
     "data": {
      "text/plain": [
       "5"
      ]
     },
     "execution_count": 13,
     "metadata": {},
     "output_type": "execute_result"
    }
   ],
   "source": [
    "len(ar1)"
   ]
  },
  {
   "cell_type": "code",
   "execution_count": 14,
   "id": "a7a8e3be",
   "metadata": {},
   "outputs": [
    {
     "data": {
      "text/plain": [
       "1"
      ]
     },
     "execution_count": 14,
     "metadata": {},
     "output_type": "execute_result"
    }
   ],
   "source": [
    "ar1.ndim"
   ]
  },
  {
   "cell_type": "code",
   "execution_count": 15,
   "id": "5ef10a26",
   "metadata": {},
   "outputs": [
    {
     "data": {
      "text/plain": [
       "(5,)"
      ]
     },
     "execution_count": 15,
     "metadata": {},
     "output_type": "execute_result"
    }
   ],
   "source": [
    "ar.shape"
   ]
  },
  {
   "cell_type": "code",
   "execution_count": 16,
   "id": "51ff5d42",
   "metadata": {},
   "outputs": [],
   "source": [
    "ar=ar.reshape(5,1)"
   ]
  },
  {
   "cell_type": "code",
   "execution_count": 17,
   "id": "f20c1a9a",
   "metadata": {},
   "outputs": [
    {
     "data": {
      "text/plain": [
       "(5, 1)"
      ]
     },
     "execution_count": 17,
     "metadata": {},
     "output_type": "execute_result"
    }
   ],
   "source": [
    "ar.shape"
   ]
  },
  {
   "cell_type": "code",
   "execution_count": 18,
   "id": "e3e7186d",
   "metadata": {},
   "outputs": [
    {
     "data": {
      "text/plain": [
       "array([[1],\n",
       "       [2],\n",
       "       [3],\n",
       "       [4],\n",
       "       [5]])"
      ]
     },
     "execution_count": 18,
     "metadata": {},
     "output_type": "execute_result"
    }
   ],
   "source": [
    "ar"
   ]
  },
  {
   "cell_type": "code",
   "execution_count": 25,
   "id": "60ff49fb",
   "metadata": {},
   "outputs": [],
   "source": [
    "ar1=ar1.reshape(1,-1)"
   ]
  },
  {
   "cell_type": "code",
   "execution_count": 26,
   "id": "0fad8928",
   "metadata": {},
   "outputs": [
    {
     "data": {
      "text/plain": [
       "array([['1', '2', '3', '4', '5']], dtype='<U1')"
      ]
     },
     "execution_count": 26,
     "metadata": {},
     "output_type": "execute_result"
    }
   ],
   "source": [
    "ar1"
   ]
  },
  {
   "cell_type": "code",
   "execution_count": 27,
   "id": "beb9437b",
   "metadata": {},
   "outputs": [
    {
     "data": {
      "text/plain": [
       "(1, 5)"
      ]
     },
     "execution_count": 27,
     "metadata": {},
     "output_type": "execute_result"
    }
   ],
   "source": [
    "ar1.shape"
   ]
  },
  {
   "cell_type": "code",
   "execution_count": 28,
   "id": "b5e796ff",
   "metadata": {},
   "outputs": [],
   "source": [
    "ls1=[1,2]\n",
    "ls2=[3,4]"
   ]
  },
  {
   "cell_type": "code",
   "execution_count": 31,
   "id": "993a360a",
   "metadata": {},
   "outputs": [],
   "source": [
    "ar2=np.array([ls1,ls2])"
   ]
  },
  {
   "cell_type": "code",
   "execution_count": 32,
   "id": "f21d233c",
   "metadata": {},
   "outputs": [
    {
     "data": {
      "text/plain": [
       "array([[1, 2],\n",
       "       [3, 4]])"
      ]
     },
     "execution_count": 32,
     "metadata": {},
     "output_type": "execute_result"
    }
   ],
   "source": [
    "ar2"
   ]
  },
  {
   "cell_type": "code",
   "execution_count": 33,
   "id": "fd237d45",
   "metadata": {},
   "outputs": [
    {
     "data": {
      "text/plain": [
       "(2, 2)"
      ]
     },
     "execution_count": 33,
     "metadata": {},
     "output_type": "execute_result"
    }
   ],
   "source": [
    "ar2.shape"
   ]
  },
  {
   "cell_type": "code",
   "execution_count": 34,
   "id": "f9872667",
   "metadata": {},
   "outputs": [],
   "source": [
    "ar2.shape=(1,4)"
   ]
  },
  {
   "cell_type": "code",
   "execution_count": 35,
   "id": "00d75165",
   "metadata": {},
   "outputs": [
    {
     "data": {
      "text/plain": [
       "array([[1, 2, 3, 4]])"
      ]
     },
     "execution_count": 35,
     "metadata": {},
     "output_type": "execute_result"
    }
   ],
   "source": [
    "ar2"
   ]
  },
  {
   "cell_type": "code",
   "execution_count": 36,
   "id": "72d0a68e",
   "metadata": {},
   "outputs": [],
   "source": [
    "r=range(20)"
   ]
  },
  {
   "cell_type": "code",
   "execution_count": 37,
   "id": "f61c9448",
   "metadata": {},
   "outputs": [
    {
     "data": {
      "text/plain": [
       "range(0, 20)"
      ]
     },
     "execution_count": 37,
     "metadata": {},
     "output_type": "execute_result"
    }
   ],
   "source": [
    "r"
   ]
  },
  {
   "cell_type": "code",
   "execution_count": 38,
   "id": "b7a40405",
   "metadata": {},
   "outputs": [],
   "source": [
    "ar3=np.arange(9)"
   ]
  },
  {
   "cell_type": "code",
   "execution_count": 39,
   "id": "d994a630",
   "metadata": {},
   "outputs": [
    {
     "data": {
      "text/plain": [
       "array([0, 1, 2, 3, 4, 5, 6, 7, 8])"
      ]
     },
     "execution_count": 39,
     "metadata": {},
     "output_type": "execute_result"
    }
   ],
   "source": [
    "ar3"
   ]
  },
  {
   "cell_type": "code",
   "execution_count": 40,
   "id": "aa3f8278",
   "metadata": {},
   "outputs": [
    {
     "data": {
      "text/plain": [
       "(9,)"
      ]
     },
     "execution_count": 40,
     "metadata": {},
     "output_type": "execute_result"
    }
   ],
   "source": [
    "ar3.shape"
   ]
  },
  {
   "cell_type": "code",
   "execution_count": 42,
   "id": "9f12087d",
   "metadata": {},
   "outputs": [
    {
     "data": {
      "text/plain": [
       "1"
      ]
     },
     "execution_count": 42,
     "metadata": {},
     "output_type": "execute_result"
    }
   ],
   "source": [
    "ar3.ndim"
   ]
  },
  {
   "cell_type": "code",
   "execution_count": 46,
   "id": "186c402c",
   "metadata": {},
   "outputs": [],
   "source": [
    "c=ar3.reshape(9,1,1)"
   ]
  },
  {
   "cell_type": "code",
   "execution_count": 47,
   "id": "3e42ac55",
   "metadata": {},
   "outputs": [
    {
     "data": {
      "text/plain": [
       "array([[[0]],\n",
       "\n",
       "       [[1]],\n",
       "\n",
       "       [[2]],\n",
       "\n",
       "       [[3]],\n",
       "\n",
       "       [[4]],\n",
       "\n",
       "       [[5]],\n",
       "\n",
       "       [[6]],\n",
       "\n",
       "       [[7]],\n",
       "\n",
       "       [[8]]])"
      ]
     },
     "execution_count": 47,
     "metadata": {},
     "output_type": "execute_result"
    }
   ],
   "source": [
    "c"
   ]
  },
  {
   "cell_type": "code",
   "execution_count": 48,
   "id": "a458f47a",
   "metadata": {},
   "outputs": [],
   "source": [
    "x=np.array([[1,2],[3,4]],dtype=np.float64)\n",
    "y=np.array([[1,1],[1,1]],dtype=np.float64)"
   ]
  },
  {
   "cell_type": "code",
   "execution_count": 49,
   "id": "ff5dfebc",
   "metadata": {},
   "outputs": [
    {
     "data": {
      "text/plain": [
       "array([[1., 1.],\n",
       "       [1., 1.]])"
      ]
     },
     "execution_count": 49,
     "metadata": {},
     "output_type": "execute_result"
    }
   ],
   "source": [
    "x\n",
    "y"
   ]
  },
  {
   "cell_type": "code",
   "execution_count": 50,
   "id": "56c12830",
   "metadata": {},
   "outputs": [
    {
     "data": {
      "text/plain": [
       "array([[1., 2.],\n",
       "       [3., 4.]])"
      ]
     },
     "execution_count": 50,
     "metadata": {},
     "output_type": "execute_result"
    }
   ],
   "source": [
    "x\n",
    "\n"
   ]
  },
  {
   "cell_type": "code",
   "execution_count": 51,
   "id": "340e36cb",
   "metadata": {},
   "outputs": [
    {
     "data": {
      "text/plain": [
       "array([[1., 1.],\n",
       "       [1., 1.]])"
      ]
     },
     "execution_count": 51,
     "metadata": {},
     "output_type": "execute_result"
    }
   ],
   "source": [
    "y"
   ]
  },
  {
   "cell_type": "code",
   "execution_count": 52,
   "id": "8ff33165",
   "metadata": {},
   "outputs": [
    {
     "data": {
      "text/plain": [
       "array([[0., 1.],\n",
       "       [2., 3.]])"
      ]
     },
     "execution_count": 52,
     "metadata": {},
     "output_type": "execute_result"
    }
   ],
   "source": [
    "x-y"
   ]
  },
  {
   "cell_type": "code",
   "execution_count": 53,
   "id": "9aeeba46",
   "metadata": {},
   "outputs": [
    {
     "ename": "SyntaxError",
     "evalue": "invalid syntax (Temp/ipykernel_12244/1316669124.py, line 1)",
     "output_type": "error",
     "traceback": [
      "\u001b[1;36m  File \u001b[1;32m\"C:\\Users\\risha\\AppData\\Local\\Temp/ipykernel_12244/1316669124.py\"\u001b[1;36m, line \u001b[1;32m1\u001b[0m\n\u001b[1;33m    x add y\u001b[0m\n\u001b[1;37m      ^\u001b[0m\n\u001b[1;31mSyntaxError\u001b[0m\u001b[1;31m:\u001b[0m invalid syntax\n"
     ]
    }
   ],
   "source": [
    "x add y"
   ]
  },
  {
   "cell_type": "code",
   "execution_count": 54,
   "id": "14097982",
   "metadata": {},
   "outputs": [
    {
     "ename": "SyntaxError",
     "evalue": "invalid syntax (Temp/ipykernel_12244/3021196491.py, line 1)",
     "output_type": "error",
     "traceback": [
      "\u001b[1;36m  File \u001b[1;32m\"C:\\Users\\risha\\AppData\\Local\\Temp/ipykernel_12244/3021196491.py\"\u001b[1;36m, line \u001b[1;32m1\u001b[0m\n\u001b[1;33m    x sum y\u001b[0m\n\u001b[1;37m      ^\u001b[0m\n\u001b[1;31mSyntaxError\u001b[0m\u001b[1;31m:\u001b[0m invalid syntax\n"
     ]
    }
   ],
   "source": [
    "x sum y"
   ]
  },
  {
   "cell_type": "code",
   "execution_count": 55,
   "id": "e250155e",
   "metadata": {},
   "outputs": [
    {
     "data": {
      "text/plain": [
       "array([[5., 7.],\n",
       "       [5., 7.]])"
      ]
     },
     "execution_count": 55,
     "metadata": {},
     "output_type": "execute_result"
    }
   ],
   "source": [
    "sum(x,y)"
   ]
  },
  {
   "cell_type": "code",
   "execution_count": 57,
   "id": "1809ad9b",
   "metadata": {},
   "outputs": [
    {
     "data": {
      "text/plain": [
       "array([[2., 3.],\n",
       "       [4., 5.]])"
      ]
     },
     "execution_count": 57,
     "metadata": {},
     "output_type": "execute_result"
    }
   ],
   "source": [
    "np.add(x,y)"
   ]
  },
  {
   "cell_type": "code",
   "execution_count": 58,
   "id": "ff766557",
   "metadata": {},
   "outputs": [
    {
     "data": {
      "text/plain": [
       "array([[3., 3.],\n",
       "       [7., 7.]])"
      ]
     },
     "execution_count": 58,
     "metadata": {},
     "output_type": "execute_result"
    }
   ],
   "source": [
    "np.dot(x,y)"
   ]
  },
  {
   "cell_type": "code",
   "execution_count": 61,
   "id": "36e8c8f2",
   "metadata": {},
   "outputs": [
    {
     "data": {
      "text/plain": [
       "array([[3., 3.],\n",
       "       [7., 7.]])"
      ]
     },
     "execution_count": 61,
     "metadata": {},
     "output_type": "execute_result"
    }
   ],
   "source": [
    "x.dot(y)"
   ]
  },
  {
   "cell_type": "code",
   "execution_count": 62,
   "id": "0b225d7a",
   "metadata": {},
   "outputs": [
    {
     "data": {
      "text/plain": [
       "4.0"
      ]
     },
     "execution_count": 62,
     "metadata": {},
     "output_type": "execute_result"
    }
   ],
   "source": [
    "np.sum(y)"
   ]
  },
  {
   "cell_type": "code",
   "execution_count": 63,
   "id": "2002eee1",
   "metadata": {},
   "outputs": [
    {
     "data": {
      "text/plain": [
       "array([2., 2.])"
      ]
     },
     "execution_count": 63,
     "metadata": {},
     "output_type": "execute_result"
    }
   ],
   "source": [
    "np.sum(y,0)"
   ]
  },
  {
   "cell_type": "code",
   "execution_count": 67,
   "id": "e5029064",
   "metadata": {},
   "outputs": [],
   "source": [
    "tup=(1,2,3,'4')"
   ]
  },
  {
   "cell_type": "code",
   "execution_count": 68,
   "id": "d3788c06",
   "metadata": {},
   "outputs": [
    {
     "ename": "TypeError",
     "evalue": "'>' not supported between instances of 'str' and 'int'",
     "output_type": "error",
     "traceback": [
      "\u001b[1;31m---------------------------------------------------------------------------\u001b[0m",
      "\u001b[1;31mTypeError\u001b[0m                                 Traceback (most recent call last)",
      "\u001b[1;32m~\\AppData\\Local\\Temp/ipykernel_12244/186757353.py\u001b[0m in \u001b[0;36m<module>\u001b[1;34m\u001b[0m\n\u001b[1;32m----> 1\u001b[1;33m \u001b[0mmax\u001b[0m\u001b[1;33m(\u001b[0m\u001b[0mtup\u001b[0m\u001b[1;33m)\u001b[0m\u001b[1;33m\u001b[0m\u001b[1;33m\u001b[0m\u001b[0m\n\u001b[0m",
      "\u001b[1;31mTypeError\u001b[0m: '>' not supported between instances of 'str' and 'int'"
     ]
    }
   ],
   "source": [
    "max(tup)"
   ]
  },
  {
   "cell_type": "code",
   "execution_count": 66,
   "id": "a01bc191",
   "metadata": {},
   "outputs": [
    {
     "data": {
      "text/plain": [
       "tuple"
      ]
     },
     "execution_count": 66,
     "metadata": {},
     "output_type": "execute_result"
    }
   ],
   "source": [
    "type(tup)"
   ]
  },
  {
   "cell_type": "code",
   "execution_count": null,
   "id": "9842db6d",
   "metadata": {},
   "outputs": [],
   "source": []
  }
 ],
 "metadata": {
  "kernelspec": {
   "display_name": "Python 3 (ipykernel)",
   "language": "python",
   "name": "python3"
  },
  "language_info": {
   "codemirror_mode": {
    "name": "ipython",
    "version": 3
   },
   "file_extension": ".py",
   "mimetype": "text/x-python",
   "name": "python",
   "nbconvert_exporter": "python",
   "pygments_lexer": "ipython3",
   "version": "3.8.8"
  }
 },
 "nbformat": 4,
 "nbformat_minor": 5
}
